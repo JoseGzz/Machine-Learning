{
 "cells": [
  {
   "cell_type": "code",
   "execution_count": 2,
   "metadata": {
    "collapsed": true
   },
   "outputs": [],
   "source": [
    "# load dataset\n",
    "# explore dataset\n",
    "# separate features into types if necessary\n",
    "# asign features and labels (X, y)\n",
    "# separate data into trainig, and test\n",
    "# clean data: data types, nulls, inconsistent names, etc\n",
    "# test several classification algorithms with kfold cv from training \n",
    "# scale features\n",
    "# plot histograms, scatter matrix, and correlations \n",
    "# research on what to do with correlations \n",
    "# remove outliers\n",
    "# use PCA/ICA \n",
    "# create new features\n",
    "# select with pipeline, kBest, percentile, recursive feature elimination\n",
    "# test selected algorithm\n",
    "# tune parameters with GridSearch CV\n",
    "# test algorithm with test set\n",
    "# evaluate with metrics/learning curve"
   ]
  },
  {
   "cell_type": "code",
   "execution_count": 3,
   "metadata": {
    "collapsed": false
   },
   "outputs": [
    {
     "name": "stdout",
     "output_type": "stream",
     "text": [
      "(150, 6)\n"
     ]
    },
    {
     "data": {
      "text/html": [
       "<div>\n",
       "<table border=\"1\" class=\"dataframe\">\n",
       "  <thead>\n",
       "    <tr style=\"text-align: right;\">\n",
       "      <th></th>\n",
       "      <th>Id</th>\n",
       "      <th>SepalLengthCm</th>\n",
       "      <th>SepalWidthCm</th>\n",
       "      <th>PetalLengthCm</th>\n",
       "      <th>PetalWidthCm</th>\n",
       "      <th>Species</th>\n",
       "    </tr>\n",
       "  </thead>\n",
       "  <tbody>\n",
       "    <tr>\n",
       "      <th>0</th>\n",
       "      <td>1</td>\n",
       "      <td>5.1</td>\n",
       "      <td>3.5</td>\n",
       "      <td>1.4</td>\n",
       "      <td>0.2</td>\n",
       "      <td>Iris-setosa</td>\n",
       "    </tr>\n",
       "    <tr>\n",
       "      <th>1</th>\n",
       "      <td>2</td>\n",
       "      <td>4.9</td>\n",
       "      <td>3.0</td>\n",
       "      <td>1.4</td>\n",
       "      <td>0.2</td>\n",
       "      <td>Iris-setosa</td>\n",
       "    </tr>\n",
       "    <tr>\n",
       "      <th>2</th>\n",
       "      <td>3</td>\n",
       "      <td>4.7</td>\n",
       "      <td>3.2</td>\n",
       "      <td>1.3</td>\n",
       "      <td>0.2</td>\n",
       "      <td>Iris-setosa</td>\n",
       "    </tr>\n",
       "    <tr>\n",
       "      <th>3</th>\n",
       "      <td>4</td>\n",
       "      <td>4.6</td>\n",
       "      <td>3.1</td>\n",
       "      <td>1.5</td>\n",
       "      <td>0.2</td>\n",
       "      <td>Iris-setosa</td>\n",
       "    </tr>\n",
       "    <tr>\n",
       "      <th>4</th>\n",
       "      <td>5</td>\n",
       "      <td>5.0</td>\n",
       "      <td>3.6</td>\n",
       "      <td>1.4</td>\n",
       "      <td>0.2</td>\n",
       "      <td>Iris-setosa</td>\n",
       "    </tr>\n",
       "  </tbody>\n",
       "</table>\n",
       "</div>"
      ],
      "text/plain": [
       "   Id  SepalLengthCm  SepalWidthCm  PetalLengthCm  PetalWidthCm      Species\n",
       "0   1            5.1           3.5            1.4           0.2  Iris-setosa\n",
       "1   2            4.9           3.0            1.4           0.2  Iris-setosa\n",
       "2   3            4.7           3.2            1.3           0.2  Iris-setosa\n",
       "3   4            4.6           3.1            1.5           0.2  Iris-setosa\n",
       "4   5            5.0           3.6            1.4           0.2  Iris-setosa"
      ]
     },
     "execution_count": 3,
     "metadata": {},
     "output_type": "execute_result"
    }
   ],
   "source": [
    "import pandas as pd\n",
    "data = pd.read_csv('Iris.csv')\n",
    "print(data.shape)\n",
    "data.head(5)"
   ]
  },
  {
   "cell_type": "code",
   "execution_count": 4,
   "metadata": {
    "collapsed": false
   },
   "outputs": [],
   "source": [
    "X, y = data[data.columns[1:data.shape[1] - 1]], pd.DataFrame(data['Species'])"
   ]
  },
  {
   "cell_type": "code",
   "execution_count": 5,
   "metadata": {
    "collapsed": false
   },
   "outputs": [
    {
     "name": "stdout",
     "output_type": "stream",
     "text": [
      "feature: SepalLengthCm, types: [<type 'numpy.float64'>]\n",
      "feature: SepalWidthCm, types: [<type 'numpy.float64'>]\n",
      "feature: PetalLengthCm, types: [<type 'numpy.float64'>]\n",
      "feature: PetalWidthCm, types: [<type 'numpy.float64'>]\n"
     ]
    }
   ],
   "source": [
    "import numpy as np\n",
    "columns =  X.columns\n",
    "for column in columns:\n",
    "    vals = [type(val) for val in X[column].unique()]\n",
    "    print('feature: {0}, types: {1}'.format(column, np.unique(vals)))"
   ]
  },
  {
   "cell_type": "code",
   "execution_count": 6,
   "metadata": {
    "collapsed": false
   },
   "outputs": [
    {
     "name": "stdout",
     "output_type": "stream",
     "text": [
      "Null values in X: 0\n",
      "Null values in y: 0\n"
     ]
    }
   ],
   "source": [
    " print \"Null values in X:\", X.isnull().values.sum()\n",
    " print \"Null values in y:\", y.isnull().values.sum()"
   ]
  },
  {
   "cell_type": "code",
   "execution_count": 7,
   "metadata": {
    "collapsed": false
   },
   "outputs": [
    {
     "name": "stdout",
     "output_type": "stream",
     "text": [
      "Classes: ['Iris-setosa' 'Iris-versicolor' 'Iris-virginica']\n"
     ]
    }
   ],
   "source": [
    "print \"Classes:\", y['Species'].unique()"
   ]
  },
  {
   "cell_type": "code",
   "execution_count": 8,
   "metadata": {
    "collapsed": false
   },
   "outputs": [
    {
     "name": "stderr",
     "output_type": "stream",
     "text": [
      "/home/jose/.local/lib/python2.7/site-packages/sklearn/cross_validation.py:44: DeprecationWarning: This module was deprecated in version 0.18 in favor of the model_selection module into which all the refactored classes and functions are moved. Also note that the interface of the new CV iterators are different from that of this module. This module will be removed in 0.20.\n",
      "  \"This module will be removed in 0.20.\", DeprecationWarning)\n"
     ]
    }
   ],
   "source": [
    "from sklearn.neural_network import MLPClassifier\n",
    "from sklearn.neighbors import KNeighborsClassifier\n",
    "from sklearn.svm import SVC\n",
    "from sklearn.gaussian_process import GaussianProcessClassifier\n",
    "from sklearn.gaussian_process.kernels import RBF\n",
    "from sklearn.tree import DecisionTreeClassifier\n",
    "from sklearn.ensemble import RandomForestClassifier, AdaBoostClassifier\n",
    "from sklearn.naive_bayes import GaussianNB\n",
    "from sklearn.discriminant_analysis import QuadraticDiscriminantAnalysis\n",
    "from sklearn.ensemble import GradientBoostingClassifier\n",
    "from sklearn.ensemble import ExtraTreesClassifier\n",
    "import numpy\n",
    "#import xgboost\n",
    "from sklearn import cross_validation\n",
    "from sklearn.metrics import accuracy_score\n",
    "\n",
    "names = [\"Nearest Neighbors\", \"Linear SVM\", \"RBF SVM\", \"Gaussian Process\",\n",
    "         \"Decision Tree\", \"Random Forest\", \"Neural Net\", \"AdaBoost\",\n",
    "         \"Naive Bayes\", \"QDA\",'GBC','ETC', 'XGB']\n",
    "\n",
    "classifiers = [\n",
    "    #KNeighborsClassifier(3), #0.946666666667\n",
    "    #SVC(kernel=\"linear\", C=0.025), #0.866666666667\n",
    "    #SVC(gamma=2, C=1), #0.946666666667\n",
    "    #GaussianProcessClassifier(1.0 * RBF(1.0), warm_start=True), #0.78\n",
    "    #DecisionTreeClassifier(max_depth=5), #0.913333333333\n",
    "    #RandomForestClassifier(max_depth=5, n_estimators=10, max_features=1), #0.92\n",
    "    #MLPClassifier(alpha=1), #0.94\n",
    "    #AdaBoostClassifier(), #0.94\n",
    "    #GaussianNB(), #0.946666666667\n",
    "    #QuadraticDiscriminantAnalysis(),#0.966666666667 this seems to be the best up until now\n",
    "    #GradientBoostingClassifier(), #0.926666666667\n",
    "    ExtraTreesClassifier() # 0.946666666667 tune parameters for this one for feature extraction\n",
    "    #xgboost.XGBClassifier() # trouble importing\n",
    "]"
   ]
  },
  {
   "cell_type": "code",
   "execution_count": 9,
   "metadata": {
    "collapsed": false
   },
   "outputs": [
    {
     "name": "stderr",
     "output_type": "stream",
     "text": [
      "/home/jose/anaconda2/lib/python2.7/site-packages/ipykernel/__main__.py:7: DataConversionWarning: A column-vector y was passed when a 1d array was expected. Please change the shape of y to (n_samples,), for example using ravel().\n"
     ]
    },
    {
     "name": "stdout",
     "output_type": "stream",
     "text": [
      "Nearest Neighbors\n",
      "Score: 0.933333333333\n"
     ]
    },
    {
     "name": "stderr",
     "output_type": "stream",
     "text": [
      "/home/jose/anaconda2/lib/python2.7/site-packages/ipykernel/__main__.py:10: DataConversionWarning: A column-vector y was passed when a 1d array was expected. Please change the shape of y to (n_samples,), for example using ravel().\n"
     ]
    }
   ],
   "source": [
    "from sklearn.model_selection import KFold\n",
    "kf = KFold(n_splits=10)\n",
    "for i, clf in enumerate(classifiers):\n",
    "    print(names[i])\n",
    "    scores = [\n",
    "        clf.fit(X.values[train], y.values[train]).score(X.values[test],y.values[test]) \n",
    "        for train, test in kf.split(X.values)\n",
    "    ]\n",
    "    print 'Score:', np.array(scores).mean()\n",
    "    clf.fit(X.values,y.values)"
   ]
  },
  {
   "cell_type": "code",
   "execution_count": 29,
   "metadata": {
    "collapsed": false
   },
   "outputs": [
    {
     "data": {
      "image/png": "[encoded data removed]",
      "text/plain": [
       "<matplotlib.figure.Figure at 0x7ffb225f1350>"
      ]
     },
     "metadata": {},
     "output_type": "display_data"
    }
   ],
   "source": [
    "import matplotlib.pyplot as plt\n",
    "from sklearn import preprocessing\n",
    "from pandas.tools.plotting import scatter_matrix\n",
    "from sklearn.decomposition import FastICA\n",
    "\n",
    "ica = FastICA(n_components=2)\n",
    "ica.fit(X.values)\n",
    "X_n = ica.transform(X)\n",
    "\n",
    "X = pd.DataFrame(preprocessing.scale(X))\n",
    "scatter_matrix(pd.DataFrame(X_n))\n",
    "#plt.ylabel(X.columns[1])\n",
    "#plt.xlabel(X.columns[2])\n",
    "#plt.scatter(X[X.columns[1]], X[X.columns[2]], marker='x')\n",
    "plt.show() # there's a clear 2-class separation, the third one must be tangled with one of those\n",
    "           # perhaps that's why QuadraticDiscriminantAnalysis works so well\n",
    "# QuadraticDiscriminantAnalysis cannot be tunned any further so we will leave this problem for now"
   ]
  }
 ],
 "metadata": {
  "anaconda-cloud": {},
  "kernelspec": {
   "display_name": "Python [default]",
   "language": "python",
   "name": "python2"
  },
  "language_info": {
   "codemirror_mode": {
    "name": "ipython",
    "version": 2
   },
   "file_extension": ".py",
   "mimetype": "text/x-python",
   "name": "python",
   "nbconvert_exporter": "python",
   "pygments_lexer": "ipython2",
   "version": "2.7.12"
  }
 },
 "nbformat": 4,
 "nbformat_minor": 1
}
