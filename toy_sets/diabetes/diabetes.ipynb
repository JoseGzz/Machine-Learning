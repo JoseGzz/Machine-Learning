{
 "cells": [
  {
   "cell_type": "code",
   "execution_count": 15,
   "metadata": {
    "collapsed": false
   },
   "outputs": [],
   "source": [
    "# under investigation\n",
    "\n",
    "import numpy as np\n",
    "import pandas as pd\n",
    "from sklearn.datasets import load_diabetes\n"
   ]
  },
  {
   "cell_type": "code",
   "execution_count": 110,
   "metadata": {
    "collapsed": false
   },
   "outputs": [
    {
     "data": {
      "text/plain": [
       "10"
      ]
     },
     "execution_count": 110,
     "metadata": {},
     "output_type": "execute_result"
    }
   ],
   "source": [
    "X = load_diabetes().data\n",
    "y = load_diabetes().target\n",
    "import numpy as np\n",
    "import pandas as pd\n",
    "X = pd.DataFrame.from_dict(X)\n",
    "y = pd.DataFrame.from_dict(y)\n",
    "len(X.columns)"
   ]
  },
  {
   "cell_type": "code",
   "execution_count": 119,
   "metadata": {
    "collapsed": false
   },
   "outputs": [
    {
     "name": "stdout",
     "output_type": "stream",
     "text": [
      "with 10 got 0.00452488687783\n",
      "with 10 got 0.00452488687783\n",
      "with 10 got 0.00452488687783\n",
      "with 10 got 0.00452488687783\n",
      "with 10 got 0.00452488687783\n",
      "with 10 got 0.00452488687783\n",
      "with 10 got 0.00452488687783\n",
      "with 10 got 0.00452488687783\n",
      "with 10 got 0.00452488687783\n",
      "with 10 got 0.00452488687783\n"
     ]
    }
   ],
   "source": [
    "from sklearn.tree import DecisionTreeClassifier\n",
    "from sklearn.model_selection import cross_val_score\n",
    "\n",
    "X = load_diabetes().data\n",
    "y = load_diabetes().target\n",
    "X = pd.DataFrame.from_dict(X)\n",
    "y = pd.DataFrame.from_dict(y)\n",
    "\n",
    "clf = DecisionTreeClassifier(random_state=0)\n",
    "data = []\n",
    "num_cols = len(X.columns)\n",
    "kf = KFold(n_splits=2)\n",
    "\n",
    "for i in range(0, num_cols):\n",
    "       # clf.fit(X, y)\n",
    "        \n",
    "        X_v = X.values\n",
    "        y_v = y.values\n",
    "\n",
    "        scores = [\n",
    "            clf.fit(X.iloc[train], y.iloc[train]).score(X.iloc[test],y.iloc[test]) \n",
    "            for train, test in kf.split(X)\n",
    "        ]\n",
    "\n",
    "        print 'with {} got {}'.format(len(X.columns), np.array(scores).mean())\n",
    "       # X = X.drop(i, axis=1)"
   ]
  },
  {
   "cell_type": "code",
   "execution_count": 14,
   "metadata": {
    "collapsed": false
   },
   "outputs": [],
   "source": [
    "from sklearn.model_selection import train_test_split\n",
    "X_train, X_test, y_train, y_test = train_test_split(X, y, test_size=0.33, random_state=42)"
   ]
  },
  {
   "cell_type": "code",
   "execution_count": 111,
   "metadata": {
    "collapsed": false
   },
   "outputs": [
    {
     "name": "stdout",
     "output_type": "stream",
     "text": [
      "0.0113125638407\n"
     ]
    }
   ],
   "source": [
    "from sklearn.model_selection import KFold\n",
    "\n",
    "print np.array(scores).mean()"
   ]
  },
  {
   "cell_type": "code",
   "execution_count": null,
   "metadata": {
    "collapsed": true
   },
   "outputs": [],
   "source": []
  }
 ],
 "metadata": {
  "anaconda-cloud": {},
  "kernelspec": {
   "display_name": "Python [default]",
   "language": "python",
   "name": "python2"
  },
  "language_info": {
   "codemirror_mode": {
    "name": "ipython",
    "version": 2
   },
   "file_extension": ".py",
   "mimetype": "text/x-python",
   "name": "python",
   "nbconvert_exporter": "python",
   "pygments_lexer": "ipython2",
   "version": "2.7.12"
  }
 },
 "nbformat": 4,
 "nbformat_minor": 1
}
