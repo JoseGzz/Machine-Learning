{
 "cells": [
  {
   "cell_type": "code",
   "execution_count": 1446,
   "metadata": {},
   "outputs": [],
   "source": [
    "from xgboost import XGBRegressor as xgbr\n",
    "import matplotlib.pyplot as plt\n",
    "from sklearn.model_selection import train_test_split\n",
    "from sklearn.ensemble import RandomForestClassifier\n",
    "from sklearn.ensemble import AdaBoostRegressor\n",
    "from sklearn.metrics import mean_squared_error\n",
    "from sklearn.tree import DecisionTreeRegressor\n",
    "from sklearn.ensemble import GradientBoostingRegressor\n",
    "from sklearn.linear_model import LinearRegression\n",
    "from sklearn.linear_model import LogisticRegression\n",
    "import pandas as pd\n",
    "import numpy as np\n",
    "import time"
   ]
  },
  {
   "cell_type": "code",
   "execution_count": 1447,
   "metadata": {},
   "outputs": [],
   "source": [
    "df = pd.read_csv('cocoa_ratings_clean.csv')"
   ]
  },
  {
   "cell_type": "code",
   "execution_count": 1448,
   "metadata": {},
   "outputs": [
    {
     "data": {
      "text/html": [
       "<div>\n",
       "<style scoped>\n",
       "    .dataframe tbody tr th:only-of-type {\n",
       "        vertical-align: middle;\n",
       "    }\n",
       "\n",
       "    .dataframe tbody tr th {\n",
       "        vertical-align: top;\n",
       "    }\n",
       "\n",
       "    .dataframe thead th {\n",
       "        text-align: right;\n",
       "    }\n",
       "</style>\n",
       "<table border=\"1\" class=\"dataframe\">\n",
       "  <thead>\n",
       "    <tr style=\"text-align: right;\">\n",
       "      <th></th>\n",
       "      <th>Unnamed: 0</th>\n",
       "      <th>maker</th>\n",
       "      <th>specific_origin</th>\n",
       "      <th>ref</th>\n",
       "      <th>review_date</th>\n",
       "      <th>cocoa_percent</th>\n",
       "      <th>company_location</th>\n",
       "      <th>rating</th>\n",
       "      <th>bean_type</th>\n",
       "      <th>broad_origin</th>\n",
       "    </tr>\n",
       "  </thead>\n",
       "  <tbody>\n",
       "    <tr>\n",
       "      <th>0</th>\n",
       "      <td>892</td>\n",
       "      <td>kallari (ecuatoriana)</td>\n",
       "      <td>diego/ original micro</td>\n",
       "      <td>248</td>\n",
       "      <td>2008</td>\n",
       "      <td>85.0</td>\n",
       "      <td>ecuador</td>\n",
       "      <td>2.50</td>\n",
       "      <td>unknown</td>\n",
       "      <td>ecuador</td>\n",
       "    </tr>\n",
       "    <tr>\n",
       "      <th>1</th>\n",
       "      <td>1699</td>\n",
       "      <td>valrhona</td>\n",
       "      <td>guanaja</td>\n",
       "      <td>63</td>\n",
       "      <td>2006</td>\n",
       "      <td>70.0</td>\n",
       "      <td>france</td>\n",
       "      <td>4.00</td>\n",
       "      <td>criollo, trinitario</td>\n",
       "      <td>south america</td>\n",
       "    </tr>\n",
       "    <tr>\n",
       "      <th>2</th>\n",
       "      <td>954</td>\n",
       "      <td>l'amourette</td>\n",
       "      <td>rugoso</td>\n",
       "      <td>1784</td>\n",
       "      <td>2016</td>\n",
       "      <td>80.0</td>\n",
       "      <td>u.s.a.</td>\n",
       "      <td>3.50</td>\n",
       "      <td>trinitario</td>\n",
       "      <td>nicaragua</td>\n",
       "    </tr>\n",
       "    <tr>\n",
       "      <th>3</th>\n",
       "      <td>29</td>\n",
       "      <td>aequare (gianduja)</td>\n",
       "      <td>los rios, quevedo, arriba</td>\n",
       "      <td>370</td>\n",
       "      <td>2009</td>\n",
       "      <td>55.0</td>\n",
       "      <td>ecuador</td>\n",
       "      <td>2.75</td>\n",
       "      <td>forastero (arriba)</td>\n",
       "      <td>ecuador</td>\n",
       "    </tr>\n",
       "    <tr>\n",
       "      <th>4</th>\n",
       "      <td>533</td>\n",
       "      <td>devries</td>\n",
       "      <td>costa rica</td>\n",
       "      <td>166</td>\n",
       "      <td>2007</td>\n",
       "      <td>77.0</td>\n",
       "      <td>u.s.a.</td>\n",
       "      <td>3.50</td>\n",
       "      <td>trinitario</td>\n",
       "      <td>costa rica</td>\n",
       "    </tr>\n",
       "  </tbody>\n",
       "</table>\n",
       "</div>"
      ],
      "text/plain": [
       "   Unnamed: 0                  maker            specific_origin   ref  \\\n",
       "0         892  kallari (ecuatoriana)      diego/ original micro   248   \n",
       "1        1699               valrhona                    guanaja    63   \n",
       "2         954            l'amourette                     rugoso  1784   \n",
       "3          29     aequare (gianduja)  los rios, quevedo, arriba   370   \n",
       "4         533                devries                 costa rica   166   \n",
       "\n",
       "   review_date  cocoa_percent company_location  rating            bean_type  \\\n",
       "0         2008           85.0          ecuador    2.50              unknown   \n",
       "1         2006           70.0           france    4.00  criollo, trinitario   \n",
       "2         2016           80.0           u.s.a.    3.50           trinitario   \n",
       "3         2009           55.0          ecuador    2.75   forastero (arriba)   \n",
       "4         2007           77.0           u.s.a.    3.50           trinitario   \n",
       "\n",
       "    broad_origin  \n",
       "0        ecuador  \n",
       "1  south america  \n",
       "2      nicaragua  \n",
       "3        ecuador  \n",
       "4     costa rica  "
      ]
     },
     "execution_count": 1448,
     "metadata": {},
     "output_type": "execute_result"
    }
   ],
   "source": [
    "df.head()"
   ]
  },
  {
   "cell_type": "code",
   "execution_count": 1449,
   "metadata": {},
   "outputs": [],
   "source": [
    "df = df[(df['rating'] >= 2) & (df['rating'] <= 3)]"
   ]
  },
  {
   "cell_type": "code",
   "execution_count": 1450,
   "metadata": {},
   "outputs": [
    {
     "data": {
      "text/html": [
       "<div>\n",
       "<style scoped>\n",
       "    .dataframe tbody tr th:only-of-type {\n",
       "        vertical-align: middle;\n",
       "    }\n",
       "\n",
       "    .dataframe tbody tr th {\n",
       "        vertical-align: top;\n",
       "    }\n",
       "\n",
       "    .dataframe thead th {\n",
       "        text-align: right;\n",
       "    }\n",
       "</style>\n",
       "<table border=\"1\" class=\"dataframe\">\n",
       "  <thead>\n",
       "    <tr style=\"text-align: right;\">\n",
       "      <th></th>\n",
       "      <th>Unnamed: 0</th>\n",
       "      <th>maker</th>\n",
       "      <th>specific_origin</th>\n",
       "      <th>ref</th>\n",
       "      <th>review_date</th>\n",
       "      <th>cocoa_percent</th>\n",
       "      <th>company_location</th>\n",
       "      <th>rating</th>\n",
       "      <th>bean_type</th>\n",
       "      <th>broad_origin</th>\n",
       "    </tr>\n",
       "  </thead>\n",
       "  <tbody>\n",
       "    <tr>\n",
       "      <th>0</th>\n",
       "      <td>892</td>\n",
       "      <td>kallari (ecuatoriana)</td>\n",
       "      <td>diego/ original micro</td>\n",
       "      <td>248</td>\n",
       "      <td>2008</td>\n",
       "      <td>85.0</td>\n",
       "      <td>ecuador</td>\n",
       "      <td>2.50</td>\n",
       "      <td>unknown</td>\n",
       "      <td>ecuador</td>\n",
       "    </tr>\n",
       "    <tr>\n",
       "      <th>3</th>\n",
       "      <td>29</td>\n",
       "      <td>aequare (gianduja)</td>\n",
       "      <td>los rios, quevedo, arriba</td>\n",
       "      <td>370</td>\n",
       "      <td>2009</td>\n",
       "      <td>55.0</td>\n",
       "      <td>ecuador</td>\n",
       "      <td>2.75</td>\n",
       "      <td>forastero (arriba)</td>\n",
       "      <td>ecuador</td>\n",
       "    </tr>\n",
       "    <tr>\n",
       "      <th>6</th>\n",
       "      <td>1453</td>\n",
       "      <td>shark's</td>\n",
       "      <td>hilo, w/ added cocoa butter</td>\n",
       "      <td>721</td>\n",
       "      <td>2011</td>\n",
       "      <td>73.0</td>\n",
       "      <td>u.s.a.</td>\n",
       "      <td>2.50</td>\n",
       "      <td>unknown</td>\n",
       "      <td>hawaii</td>\n",
       "    </tr>\n",
       "    <tr>\n",
       "      <th>9</th>\n",
       "      <td>734</td>\n",
       "      <td>glennmade</td>\n",
       "      <td>bahia</td>\n",
       "      <td>1672</td>\n",
       "      <td>2015</td>\n",
       "      <td>66.0</td>\n",
       "      <td>u.s.a.</td>\n",
       "      <td>3.00</td>\n",
       "      <td>trinitario, forastero</td>\n",
       "      <td>brazil</td>\n",
       "    </tr>\n",
       "    <tr>\n",
       "      <th>16</th>\n",
       "      <td>834</td>\n",
       "      <td>hotel chocolat (coppeneur)</td>\n",
       "      <td>chanchamayo, pichanadi, 2012, 60hr c.</td>\n",
       "      <td>1109</td>\n",
       "      <td>2013</td>\n",
       "      <td>100.0</td>\n",
       "      <td>u.k.</td>\n",
       "      <td>2.75</td>\n",
       "      <td>unknown</td>\n",
       "      <td>peru</td>\n",
       "    </tr>\n",
       "  </tbody>\n",
       "</table>\n",
       "</div>"
      ],
      "text/plain": [
       "    Unnamed: 0                       maker  \\\n",
       "0          892       kallari (ecuatoriana)   \n",
       "3           29          aequare (gianduja)   \n",
       "6         1453                     shark's   \n",
       "9          734                   glennmade   \n",
       "16         834  hotel chocolat (coppeneur)   \n",
       "\n",
       "                          specific_origin   ref  review_date  cocoa_percent  \\\n",
       "0                   diego/ original micro   248         2008           85.0   \n",
       "3               los rios, quevedo, arriba   370         2009           55.0   \n",
       "6             hilo, w/ added cocoa butter   721         2011           73.0   \n",
       "9                                   bahia  1672         2015           66.0   \n",
       "16  chanchamayo, pichanadi, 2012, 60hr c.  1109         2013          100.0   \n",
       "\n",
       "   company_location  rating              bean_type broad_origin  \n",
       "0           ecuador    2.50                unknown      ecuador  \n",
       "3           ecuador    2.75     forastero (arriba)      ecuador  \n",
       "6            u.s.a.    2.50                unknown       hawaii  \n",
       "9            u.s.a.    3.00  trinitario, forastero       brazil  \n",
       "16             u.k.    2.75                unknown         peru  "
      ]
     },
     "execution_count": 1450,
     "metadata": {},
     "output_type": "execute_result"
    }
   ],
   "source": [
    "df.head()"
   ]
  },
  {
   "cell_type": "code",
   "execution_count": 1451,
   "metadata": {},
   "outputs": [],
   "source": [
    "df['ratio'] = df['ref'] / df['cocoa_percent'] "
   ]
  },
  {
   "cell_type": "code",
   "execution_count": 1452,
   "metadata": {},
   "outputs": [],
   "source": [
    "def encode_values(df, column):\n",
    "    final_vals = []\n",
    "    registered_vals = {}\n",
    "    for i, val in enumerate(df[column]):\n",
    "        if not val in list(registered_vals.keys()):\n",
    "            registered_vals[val] = i\n",
    "        final_vals.append(registered_vals[val])\n",
    "    return final_vals"
   ]
  },
  {
   "cell_type": "code",
   "execution_count": 1453,
   "metadata": {},
   "outputs": [],
   "source": [
    "categorical_cols = ['maker', 'specific_origin', 'company_location', 'bean_type', 'broad_origin']"
   ]
  },
  {
   "cell_type": "code",
   "execution_count": 1454,
   "metadata": {
    "scrolled": true
   },
   "outputs": [],
   "source": [
    "encoded_cols = np.array([encode_values(df, col) for col in categorical_cols])"
   ]
  },
  {
   "cell_type": "code",
   "execution_count": 1455,
   "metadata": {},
   "outputs": [],
   "source": [
    "df['maker'] = encoded_cols[0]\n",
    "df['specific_origin'] = encoded_cols[1]\n",
    "df['company_location'] = encoded_cols[2]\n",
    "df['bean_type'] = encoded_cols[3]\n",
    "df['broad_origin'] = encoded_cols[4]"
   ]
  },
  {
   "cell_type": "code",
   "execution_count": 1456,
   "metadata": {},
   "outputs": [
    {
     "data": {
      "text/html": [
       "<div>\n",
       "<style scoped>\n",
       "    .dataframe tbody tr th:only-of-type {\n",
       "        vertical-align: middle;\n",
       "    }\n",
       "\n",
       "    .dataframe tbody tr th {\n",
       "        vertical-align: top;\n",
       "    }\n",
       "\n",
       "    .dataframe thead th {\n",
       "        text-align: right;\n",
       "    }\n",
       "</style>\n",
       "<table border=\"1\" class=\"dataframe\">\n",
       "  <thead>\n",
       "    <tr style=\"text-align: right;\">\n",
       "      <th></th>\n",
       "      <th>Unnamed: 0</th>\n",
       "      <th>maker</th>\n",
       "      <th>specific_origin</th>\n",
       "      <th>ref</th>\n",
       "      <th>review_date</th>\n",
       "      <th>cocoa_percent</th>\n",
       "      <th>company_location</th>\n",
       "      <th>rating</th>\n",
       "      <th>bean_type</th>\n",
       "      <th>broad_origin</th>\n",
       "      <th>ratio</th>\n",
       "    </tr>\n",
       "  </thead>\n",
       "  <tbody>\n",
       "    <tr>\n",
       "      <th>0</th>\n",
       "      <td>892</td>\n",
       "      <td>0</td>\n",
       "      <td>0</td>\n",
       "      <td>248</td>\n",
       "      <td>2008</td>\n",
       "      <td>85.0</td>\n",
       "      <td>0</td>\n",
       "      <td>2.50</td>\n",
       "      <td>0</td>\n",
       "      <td>0</td>\n",
       "      <td>2.917647</td>\n",
       "    </tr>\n",
       "    <tr>\n",
       "      <th>3</th>\n",
       "      <td>29</td>\n",
       "      <td>1</td>\n",
       "      <td>1</td>\n",
       "      <td>370</td>\n",
       "      <td>2009</td>\n",
       "      <td>55.0</td>\n",
       "      <td>0</td>\n",
       "      <td>2.75</td>\n",
       "      <td>1</td>\n",
       "      <td>0</td>\n",
       "      <td>6.727273</td>\n",
       "    </tr>\n",
       "    <tr>\n",
       "      <th>6</th>\n",
       "      <td>1453</td>\n",
       "      <td>2</td>\n",
       "      <td>2</td>\n",
       "      <td>721</td>\n",
       "      <td>2011</td>\n",
       "      <td>73.0</td>\n",
       "      <td>2</td>\n",
       "      <td>2.50</td>\n",
       "      <td>0</td>\n",
       "      <td>2</td>\n",
       "      <td>9.876712</td>\n",
       "    </tr>\n",
       "    <tr>\n",
       "      <th>9</th>\n",
       "      <td>734</td>\n",
       "      <td>3</td>\n",
       "      <td>3</td>\n",
       "      <td>1672</td>\n",
       "      <td>2015</td>\n",
       "      <td>66.0</td>\n",
       "      <td>2</td>\n",
       "      <td>3.00</td>\n",
       "      <td>3</td>\n",
       "      <td>3</td>\n",
       "      <td>25.333333</td>\n",
       "    </tr>\n",
       "    <tr>\n",
       "      <th>16</th>\n",
       "      <td>834</td>\n",
       "      <td>4</td>\n",
       "      <td>4</td>\n",
       "      <td>1109</td>\n",
       "      <td>2013</td>\n",
       "      <td>100.0</td>\n",
       "      <td>4</td>\n",
       "      <td>2.75</td>\n",
       "      <td>0</td>\n",
       "      <td>4</td>\n",
       "      <td>11.090000</td>\n",
       "    </tr>\n",
       "  </tbody>\n",
       "</table>\n",
       "</div>"
      ],
      "text/plain": [
       "    Unnamed: 0  maker  specific_origin   ref  review_date  cocoa_percent  \\\n",
       "0          892      0                0   248         2008           85.0   \n",
       "3           29      1                1   370         2009           55.0   \n",
       "6         1453      2                2   721         2011           73.0   \n",
       "9          734      3                3  1672         2015           66.0   \n",
       "16         834      4                4  1109         2013          100.0   \n",
       "\n",
       "    company_location  rating  bean_type  broad_origin      ratio  \n",
       "0                  0    2.50          0             0   2.917647  \n",
       "3                  0    2.75          1             0   6.727273  \n",
       "6                  2    2.50          0             2   9.876712  \n",
       "9                  2    3.00          3             3  25.333333  \n",
       "16                 4    2.75          0             4  11.090000  "
      ]
     },
     "execution_count": 1456,
     "metadata": {},
     "output_type": "execute_result"
    }
   ],
   "source": [
    "df.head()"
   ]
  },
  {
   "cell_type": "code",
   "execution_count": 1457,
   "metadata": {},
   "outputs": [],
   "source": [
    "df = df.drop(['Unnamed: 0'], axis=1)#, 'maker', 'specific_origin', 'company_location', 'bean_type', 'broad_origin'], axis=1)"
   ]
  },
  {
   "cell_type": "code",
   "execution_count": 1458,
   "metadata": {},
   "outputs": [],
   "source": [
    "# ingenieria de caracteristicas\n",
    "df['rating'] = df['rating'].apply(lambda x : str(x))"
   ]
  },
  {
   "cell_type": "code",
   "execution_count": 1459,
   "metadata": {
    "scrolled": true
   },
   "outputs": [
    {
     "data": {
      "text/html": [
       "<div>\n",
       "<style scoped>\n",
       "    .dataframe tbody tr th:only-of-type {\n",
       "        vertical-align: middle;\n",
       "    }\n",
       "\n",
       "    .dataframe tbody tr th {\n",
       "        vertical-align: top;\n",
       "    }\n",
       "\n",
       "    .dataframe thead th {\n",
       "        text-align: right;\n",
       "    }\n",
       "</style>\n",
       "<table border=\"1\" class=\"dataframe\">\n",
       "  <thead>\n",
       "    <tr style=\"text-align: right;\">\n",
       "      <th></th>\n",
       "      <th>maker</th>\n",
       "      <th>specific_origin</th>\n",
       "      <th>ref</th>\n",
       "      <th>review_date</th>\n",
       "      <th>cocoa_percent</th>\n",
       "      <th>company_location</th>\n",
       "      <th>rating</th>\n",
       "      <th>bean_type</th>\n",
       "      <th>broad_origin</th>\n",
       "      <th>ratio</th>\n",
       "    </tr>\n",
       "  </thead>\n",
       "  <tbody>\n",
       "    <tr>\n",
       "      <th>0</th>\n",
       "      <td>0</td>\n",
       "      <td>0</td>\n",
       "      <td>248</td>\n",
       "      <td>2008</td>\n",
       "      <td>85.0</td>\n",
       "      <td>0</td>\n",
       "      <td>2.5</td>\n",
       "      <td>0</td>\n",
       "      <td>0</td>\n",
       "      <td>2.917647</td>\n",
       "    </tr>\n",
       "    <tr>\n",
       "      <th>3</th>\n",
       "      <td>1</td>\n",
       "      <td>1</td>\n",
       "      <td>370</td>\n",
       "      <td>2009</td>\n",
       "      <td>55.0</td>\n",
       "      <td>0</td>\n",
       "      <td>2.75</td>\n",
       "      <td>1</td>\n",
       "      <td>0</td>\n",
       "      <td>6.727273</td>\n",
       "    </tr>\n",
       "    <tr>\n",
       "      <th>6</th>\n",
       "      <td>2</td>\n",
       "      <td>2</td>\n",
       "      <td>721</td>\n",
       "      <td>2011</td>\n",
       "      <td>73.0</td>\n",
       "      <td>2</td>\n",
       "      <td>2.5</td>\n",
       "      <td>0</td>\n",
       "      <td>2</td>\n",
       "      <td>9.876712</td>\n",
       "    </tr>\n",
       "    <tr>\n",
       "      <th>9</th>\n",
       "      <td>3</td>\n",
       "      <td>3</td>\n",
       "      <td>1672</td>\n",
       "      <td>2015</td>\n",
       "      <td>66.0</td>\n",
       "      <td>2</td>\n",
       "      <td>3.0</td>\n",
       "      <td>3</td>\n",
       "      <td>3</td>\n",
       "      <td>25.333333</td>\n",
       "    </tr>\n",
       "    <tr>\n",
       "      <th>16</th>\n",
       "      <td>4</td>\n",
       "      <td>4</td>\n",
       "      <td>1109</td>\n",
       "      <td>2013</td>\n",
       "      <td>100.0</td>\n",
       "      <td>4</td>\n",
       "      <td>2.75</td>\n",
       "      <td>0</td>\n",
       "      <td>4</td>\n",
       "      <td>11.090000</td>\n",
       "    </tr>\n",
       "  </tbody>\n",
       "</table>\n",
       "</div>"
      ],
      "text/plain": [
       "    maker  specific_origin   ref  review_date  cocoa_percent  \\\n",
       "0       0                0   248         2008           85.0   \n",
       "3       1                1   370         2009           55.0   \n",
       "6       2                2   721         2011           73.0   \n",
       "9       3                3  1672         2015           66.0   \n",
       "16      4                4  1109         2013          100.0   \n",
       "\n",
       "    company_location rating  bean_type  broad_origin      ratio  \n",
       "0                  0    2.5          0             0   2.917647  \n",
       "3                  0   2.75          1             0   6.727273  \n",
       "6                  2    2.5          0             2   9.876712  \n",
       "9                  2    3.0          3             3  25.333333  \n",
       "16                 4   2.75          0             4  11.090000  "
      ]
     },
     "execution_count": 1459,
     "metadata": {},
     "output_type": "execute_result"
    }
   ],
   "source": [
    "ratings = df['rating']\n",
    "ratio = df['ratio']\n",
    "#df = df.iloc[:, :3]\n",
    "df['rating'] = ratings\n",
    "df['ratio'] = ratio\n",
    "\n",
    "df.head()"
   ]
  },
  {
   "cell_type": "code",
   "execution_count": 1460,
   "metadata": {},
   "outputs": [],
   "source": [
    "Y = df['rating']\n",
    "X = df.drop('rating', axis=1)"
   ]
  },
  {
   "cell_type": "code",
   "execution_count": 1461,
   "metadata": {},
   "outputs": [],
   "source": [
    "Y = Y.apply(lambda  x : float(x))"
   ]
  },
  {
   "cell_type": "code",
   "execution_count": 1462,
   "metadata": {},
   "outputs": [],
   "source": [
    "# use 20% for testing\n",
    "X_train, X_test, Y_train, Y_test = train_test_split(X, Y, test_size=0.10)"
   ]
  },
  {
   "cell_type": "code",
   "execution_count": 1471,
   "metadata": {},
   "outputs": [],
   "source": [
    "reg_model = RandomForestClassifier(500, n_jobs=-1, random_state=42, max_features=None, max_depth=None)\n",
    "reg_model = xgbr(n_estimators=500, max_depth=5, subsample=0.8, nthread=-1, learning_rate=0.1)\n",
    "#dt = DecisionTreeRegressor(max_depth=None)\n",
    "#reg_model = AdaBoostRegressor(base_estimator=dt, n_estimators=500, random_state=24)\n",
    "#reg_model = GradientBoostingRegressor(n_estimators=500)\n",
    "#reg_model = LinearRegression()\n",
    "#reg_model = LogisticRegression()"
   ]
  },
  {
   "cell_type": "code",
   "execution_count": 1472,
   "metadata": {},
   "outputs": [
    {
     "data": {
      "text/plain": [
       "XGBRegressor(base_score=0.5, colsample_bylevel=1, colsample_bytree=1, gamma=0,\n",
       "       learning_rate=0.1, max_delta_step=0, max_depth=5,\n",
       "       min_child_weight=1, missing=None, n_estimators=500, nthread=-1,\n",
       "       objective='reg:linear', reg_alpha=0, reg_lambda=1,\n",
       "       scale_pos_weight=1, seed=0, silent=True, subsample=0.8)"
      ]
     },
     "execution_count": 1472,
     "metadata": {},
     "output_type": "execute_result"
    }
   ],
   "source": [
    "reg_model.fit(X_train, Y_train)"
   ]
  },
  {
   "cell_type": "code",
   "execution_count": 1473,
   "metadata": {},
   "outputs": [
    {
     "name": "stdout",
     "output_type": "stream",
     "text": [
      "Took 0.05 seconds or 0.00 minutes to make predictions on both sets.\n"
     ]
    }
   ],
   "source": [
    "# get predictions for evaluation\n",
    "start_time = time.time()\n",
    "predictions_train = reg_model.predict(X_train) \n",
    "predictions_test = reg_model.predict(X_test)\n",
    "train_sec = time.time() - start_time\n",
    "print(\"Took {0:0.2f} seconds or {1:0.2f} minutes to make predictions on both sets.\".format(train_sec, train_sec/60))"
   ]
  },
  {
   "cell_type": "code",
   "execution_count": 1474,
   "metadata": {},
   "outputs": [
    {
     "name": "stdout",
     "output_type": "stream",
     "text": [
      "TRAIN\n",
      "MSE: 0.00016\n",
      "R^2: 1.00\n"
     ]
    }
   ],
   "source": [
    "print('TRAIN')\n",
    "print(\"MSE: {0:0.5f}\".format(mean_squared_error(predictions_train, Y_train))) # RMSE (Root Mean Square Error)\n",
    "print(\"R^2: {0:0.2f}\".format(reg_model.score(X_train, Y_train))) # r^2"
   ]
  },
  {
   "cell_type": "code",
   "execution_count": 1467,
   "metadata": {},
   "outputs": [
    {
     "name": "stdout",
     "output_type": "stream",
     "text": [
      "TEST\n",
      "MSE: 0.05932\n",
      "R^2: -0.15\n"
     ]
    }
   ],
   "source": [
    "print('TEST')\n",
    "print(\"MSE: {0:0.5f}\".format(mean_squared_error(predictions_test, Y_test))) # RMSE (Root Mean Square Error)\n",
    "print(\"R^2: {0:0.2f}\".format(reg_model.score(X_test, Y_test))) # r^2"
   ]
  },
  {
   "cell_type": "code",
   "execution_count": 1468,
   "metadata": {},
   "outputs": [
    {
     "data": {
      "image/png": "[encoded data removed]",
      "text/plain": [
       "<matplotlib.figure.Figure at 0x7f6693f3b080>"
      ]
     },
     "metadata": {},
     "output_type": "display_data"
    }
   ],
   "source": [
    "# make some visualizations of the results on train\n",
    "%matplotlib inline\n",
    "#plt.ylim(ymax=60); plt.ylim(ymin=-5)\n",
    "#plt.xlim(xmax=60); plt.xlim(xmin=-5)\n",
    "plt.scatter(Y_train.values, predictions_train, alpha=0.1)\n",
    "plt.show()"
   ]
  },
  {
   "cell_type": "code",
   "execution_count": 1469,
   "metadata": {},
   "outputs": [
    {
     "data": {
      "image/png": "[encoded data removed]",
      "text/plain": [
       "<matplotlib.figure.Figure at 0x7f6693fdf518>"
      ]
     },
     "metadata": {},
     "output_type": "display_data"
    }
   ],
   "source": [
    "# and on test\n",
    "%matplotlib inline\n",
    "#plt.ylim(ymax=60); plt.ylim(ymin=-5)\n",
    "#plt.xlim(xmax=60); plt.xlim(xmin=-5)\n",
    "plt.scatter(Y_test.values, predictions_test)#, alpha=0.1)\n",
    "plt.show()"
   ]
  },
  {
   "cell_type": "code",
   "execution_count": 1470,
   "metadata": {},
   "outputs": [
    {
     "ename": "AttributeError",
     "evalue": "'XGBRegressor' object has no attribute 'feature_importances_'",
     "output_type": "error",
     "traceback": [
      "\u001b[0;31m---------------------------------------------------------------------------\u001b[0m",
      "\u001b[0;31mAttributeError\u001b[0m                            Traceback (most recent call last)",
      "\u001b[0;32m<ipython-input-1470-25a2b5c465a5>\u001b[0m in \u001b[0;36m<module>\u001b[0;34m()\u001b[0m\n\u001b[0;32m----> 1\u001b[0;31m \u001b[0mreg_model\u001b[0m\u001b[0;34m.\u001b[0m\u001b[0mfeature_importances_\u001b[0m\u001b[0;34m\u001b[0m\u001b[0m\n\u001b[0m",
      "\u001b[0;31mAttributeError\u001b[0m: 'XGBRegressor' object has no attribute 'feature_importances_'"
     ]
    }
   ],
   "source": [
    "reg_model.feature_importances_"
   ]
  },
  {
   "cell_type": "code",
   "execution_count": null,
   "metadata": {},
   "outputs": [],
   "source": []
  }
 ],
 "metadata": {
  "kernelspec": {
   "display_name": "Python [default]",
   "language": "python",
   "name": "python3"
  },
  "language_info": {
   "codemirror_mode": {
    "name": "ipython",
    "version": 3
   },
   "file_extension": ".py",
   "mimetype": "text/x-python",
   "name": "python",
   "nbconvert_exporter": "python",
   "pygments_lexer": "ipython3",
   "version": "3.5.5"
  }
 },
 "nbformat": 4,
 "nbformat_minor": 2
}
