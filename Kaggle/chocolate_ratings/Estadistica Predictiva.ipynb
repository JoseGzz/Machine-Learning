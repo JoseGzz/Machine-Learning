{
 "cells": [
  {
   "cell_type": "code",
   "execution_count": 1926,
   "metadata": {},
   "outputs": [],
   "source": [
    "from xgboost import XGBRegressor as xgbr\n",
    "from sklearn.model_selection import train_test_split\n",
    "from sklearn.ensemble import RandomForestClassifier\n",
    "from sklearn.metrics import mean_squared_error\n",
    "import matplotlib.pyplot as plt\n",
    "import pandas as pd\n",
    "import numpy as np\n",
    "import pickle\n",
    "import time"
   ]
  },
  {
   "cell_type": "code",
   "execution_count": 1927,
   "metadata": {},
   "outputs": [],
   "source": [
    "df = pd.read_csv('cocoa_ratings_clean.csv')"
   ]
  },
  {
   "cell_type": "code",
   "execution_count": 1928,
   "metadata": {},
   "outputs": [
    {
     "data": {
      "text/html": [
       "<div>\n",
       "<style scoped>\n",
       "    .dataframe tbody tr th:only-of-type {\n",
       "        vertical-align: middle;\n",
       "    }\n",
       "\n",
       "    .dataframe tbody tr th {\n",
       "        vertical-align: top;\n",
       "    }\n",
       "\n",
       "    .dataframe thead th {\n",
       "        text-align: right;\n",
       "    }\n",
       "</style>\n",
       "<table border=\"1\" class=\"dataframe\">\n",
       "  <thead>\n",
       "    <tr style=\"text-align: right;\">\n",
       "      <th></th>\n",
       "      <th>Unnamed: 0</th>\n",
       "      <th>maker</th>\n",
       "      <th>specific_origin</th>\n",
       "      <th>ref</th>\n",
       "      <th>review_date</th>\n",
       "      <th>cocoa_percent</th>\n",
       "      <th>company_location</th>\n",
       "      <th>rating</th>\n",
       "      <th>bean_type</th>\n",
       "      <th>broad_origin</th>\n",
       "    </tr>\n",
       "  </thead>\n",
       "  <tbody>\n",
       "    <tr>\n",
       "      <th>0</th>\n",
       "      <td>892</td>\n",
       "      <td>kallari (ecuatoriana)</td>\n",
       "      <td>diego/ original micro</td>\n",
       "      <td>248</td>\n",
       "      <td>2008</td>\n",
       "      <td>85.0</td>\n",
       "      <td>ecuador</td>\n",
       "      <td>2.50</td>\n",
       "      <td>unknown</td>\n",
       "      <td>ecuador</td>\n",
       "    </tr>\n",
       "    <tr>\n",
       "      <th>1</th>\n",
       "      <td>1699</td>\n",
       "      <td>valrhona</td>\n",
       "      <td>guanaja</td>\n",
       "      <td>63</td>\n",
       "      <td>2006</td>\n",
       "      <td>70.0</td>\n",
       "      <td>france</td>\n",
       "      <td>4.00</td>\n",
       "      <td>criollo, trinitario</td>\n",
       "      <td>south america</td>\n",
       "    </tr>\n",
       "    <tr>\n",
       "      <th>2</th>\n",
       "      <td>954</td>\n",
       "      <td>l'amourette</td>\n",
       "      <td>rugoso</td>\n",
       "      <td>1784</td>\n",
       "      <td>2016</td>\n",
       "      <td>80.0</td>\n",
       "      <td>u.s.a.</td>\n",
       "      <td>3.50</td>\n",
       "      <td>trinitario</td>\n",
       "      <td>nicaragua</td>\n",
       "    </tr>\n",
       "    <tr>\n",
       "      <th>3</th>\n",
       "      <td>29</td>\n",
       "      <td>aequare (gianduja)</td>\n",
       "      <td>los rios, quevedo, arriba</td>\n",
       "      <td>370</td>\n",
       "      <td>2009</td>\n",
       "      <td>55.0</td>\n",
       "      <td>ecuador</td>\n",
       "      <td>2.75</td>\n",
       "      <td>forastero (arriba)</td>\n",
       "      <td>ecuador</td>\n",
       "    </tr>\n",
       "    <tr>\n",
       "      <th>4</th>\n",
       "      <td>533</td>\n",
       "      <td>devries</td>\n",
       "      <td>costa rica</td>\n",
       "      <td>166</td>\n",
       "      <td>2007</td>\n",
       "      <td>77.0</td>\n",
       "      <td>u.s.a.</td>\n",
       "      <td>3.50</td>\n",
       "      <td>trinitario</td>\n",
       "      <td>costa rica</td>\n",
       "    </tr>\n",
       "  </tbody>\n",
       "</table>\n",
       "</div>"
      ],
      "text/plain": [
       "   Unnamed: 0                  maker            specific_origin   ref  \\\n",
       "0         892  kallari (ecuatoriana)      diego/ original micro   248   \n",
       "1        1699               valrhona                    guanaja    63   \n",
       "2         954            l'amourette                     rugoso  1784   \n",
       "3          29     aequare (gianduja)  los rios, quevedo, arriba   370   \n",
       "4         533                devries                 costa rica   166   \n",
       "\n",
       "   review_date  cocoa_percent company_location  rating            bean_type  \\\n",
       "0         2008           85.0          ecuador    2.50              unknown   \n",
       "1         2006           70.0           france    4.00  criollo, trinitario   \n",
       "2         2016           80.0           u.s.a.    3.50           trinitario   \n",
       "3         2009           55.0          ecuador    2.75   forastero (arriba)   \n",
       "4         2007           77.0           u.s.a.    3.50           trinitario   \n",
       "\n",
       "    broad_origin  \n",
       "0        ecuador  \n",
       "1  south america  \n",
       "2      nicaragua  \n",
       "3        ecuador  \n",
       "4     costa rica  "
      ]
     },
     "execution_count": 1928,
     "metadata": {},
     "output_type": "execute_result"
    }
   ],
   "source": [
    "df.head()"
   ]
  },
  {
   "cell_type": "code",
   "execution_count": 1929,
   "metadata": {},
   "outputs": [],
   "source": [
    "def encode_values(df, column):\n",
    "    final_vals = []\n",
    "    registered_vals = {}\n",
    "    for i, val in enumerate(df[column]):\n",
    "        if not val in list(registered_vals.keys()):\n",
    "            registered_vals[val] = i\n",
    "        final_vals.append(registered_vals[val])\n",
    "    return final_vals"
   ]
  },
  {
   "cell_type": "code",
   "execution_count": 1930,
   "metadata": {},
   "outputs": [],
   "source": [
    "df_validation_values = df.iloc[0:100, :]\n",
    "df_validation_values.to_csv('validation_values.csv', index=False)"
   ]
  },
  {
   "cell_type": "code",
   "execution_count": 1931,
   "metadata": {},
   "outputs": [],
   "source": [
    "categorical_cols = ['maker', 'specific_origin', 'company_location', 'bean_type', 'broad_origin']"
   ]
  },
  {
   "cell_type": "code",
   "execution_count": 1932,
   "metadata": {
    "scrolled": true
   },
   "outputs": [],
   "source": [
    "encoded_cols = np.array([encode_values(df, col) for col in categorical_cols])"
   ]
  },
  {
   "cell_type": "code",
   "execution_count": 1933,
   "metadata": {},
   "outputs": [],
   "source": [
    "df['maker'] = encoded_cols[0]\n",
    "df['specific_origin'] = encoded_cols[1]\n",
    "df['company_location'] = encoded_cols[2]\n",
    "df['bean_type'] = encoded_cols[3]\n",
    "df['broad_origin'] = encoded_cols[4]"
   ]
  },
  {
   "cell_type": "code",
   "execution_count": 1934,
   "metadata": {},
   "outputs": [],
   "source": [
    "df_validation = df.iloc[0:100, :]\n",
    "df = df.iloc[100:,:]#df[df[(df['rating'] >= 4) & (df['rating'] <= 5)]]\n",
    "df_validation.to_csv('validation_set.csv', index=False)"
   ]
  },
  {
   "cell_type": "code",
   "execution_count": 1935,
   "metadata": {},
   "outputs": [],
   "source": [
    "df = df[(df['rating'] >= 2) & (df['rating'] <= 5)]"
   ]
  },
  {
   "cell_type": "code",
   "execution_count": 1936,
   "metadata": {},
   "outputs": [
    {
     "data": {
      "text/html": [
       "<div>\n",
       "<style scoped>\n",
       "    .dataframe tbody tr th:only-of-type {\n",
       "        vertical-align: middle;\n",
       "    }\n",
       "\n",
       "    .dataframe tbody tr th {\n",
       "        vertical-align: top;\n",
       "    }\n",
       "\n",
       "    .dataframe thead th {\n",
       "        text-align: right;\n",
       "    }\n",
       "</style>\n",
       "<table border=\"1\" class=\"dataframe\">\n",
       "  <thead>\n",
       "    <tr style=\"text-align: right;\">\n",
       "      <th></th>\n",
       "      <th>Unnamed: 0</th>\n",
       "      <th>maker</th>\n",
       "      <th>specific_origin</th>\n",
       "      <th>ref</th>\n",
       "      <th>review_date</th>\n",
       "      <th>cocoa_percent</th>\n",
       "      <th>company_location</th>\n",
       "      <th>rating</th>\n",
       "      <th>bean_type</th>\n",
       "      <th>broad_origin</th>\n",
       "    </tr>\n",
       "  </thead>\n",
       "  <tbody>\n",
       "    <tr>\n",
       "      <th>100</th>\n",
       "      <td>234</td>\n",
       "      <td>65</td>\n",
       "      <td>100</td>\n",
       "      <td>761</td>\n",
       "      <td>2011</td>\n",
       "      <td>75.0</td>\n",
       "      <td>1</td>\n",
       "      <td>3.25</td>\n",
       "      <td>2</td>\n",
       "      <td>57</td>\n",
       "    </tr>\n",
       "    <tr>\n",
       "      <th>101</th>\n",
       "      <td>626</td>\n",
       "      <td>101</td>\n",
       "      <td>101</td>\n",
       "      <td>903</td>\n",
       "      <td>2012</td>\n",
       "      <td>70.0</td>\n",
       "      <td>2</td>\n",
       "      <td>2.75</td>\n",
       "      <td>2</td>\n",
       "      <td>17</td>\n",
       "    </tr>\n",
       "    <tr>\n",
       "      <th>102</th>\n",
       "      <td>1161</td>\n",
       "      <td>102</td>\n",
       "      <td>102</td>\n",
       "      <td>1049</td>\n",
       "      <td>2013</td>\n",
       "      <td>70.0</td>\n",
       "      <td>102</td>\n",
       "      <td>3.00</td>\n",
       "      <td>0</td>\n",
       "      <td>4</td>\n",
       "    </tr>\n",
       "    <tr>\n",
       "      <th>103</th>\n",
       "      <td>548</td>\n",
       "      <td>103</td>\n",
       "      <td>103</td>\n",
       "      <td>1688</td>\n",
       "      <td>2015</td>\n",
       "      <td>85.0</td>\n",
       "      <td>16</td>\n",
       "      <td>3.00</td>\n",
       "      <td>0</td>\n",
       "      <td>17</td>\n",
       "    </tr>\n",
       "    <tr>\n",
       "      <th>104</th>\n",
       "      <td>1193</td>\n",
       "      <td>104</td>\n",
       "      <td>104</td>\n",
       "      <td>1454</td>\n",
       "      <td>2015</td>\n",
       "      <td>70.0</td>\n",
       "      <td>2</td>\n",
       "      <td>3.75</td>\n",
       "      <td>60</td>\n",
       "      <td>104</td>\n",
       "    </tr>\n",
       "  </tbody>\n",
       "</table>\n",
       "</div>"
      ],
      "text/plain": [
       "     Unnamed: 0  maker  specific_origin   ref  review_date  cocoa_percent  \\\n",
       "100         234     65              100   761         2011           75.0   \n",
       "101         626    101              101   903         2012           70.0   \n",
       "102        1161    102              102  1049         2013           70.0   \n",
       "103         548    103              103  1688         2015           85.0   \n",
       "104        1193    104              104  1454         2015           70.0   \n",
       "\n",
       "     company_location  rating  bean_type  broad_origin  \n",
       "100                 1    3.25          2            57  \n",
       "101                 2    2.75          2            17  \n",
       "102               102    3.00          0             4  \n",
       "103                16    3.00          0            17  \n",
       "104                 2    3.75         60           104  "
      ]
     },
     "execution_count": 1936,
     "metadata": {},
     "output_type": "execute_result"
    }
   ],
   "source": [
    "df.head()"
   ]
  },
  {
   "cell_type": "code",
   "execution_count": 1937,
   "metadata": {},
   "outputs": [],
   "source": [
    "df['ratio'] = df['ref'] / df['cocoa_percent'] "
   ]
  },
  {
   "cell_type": "code",
   "execution_count": 1938,
   "metadata": {},
   "outputs": [],
   "source": [
    "df = df.drop(['Unnamed: 0'], axis=1)#, 'maker', 'specific_origin', 'company_location', 'bean_type', 'broad_origin'], axis=1)"
   ]
  },
  {
   "cell_type": "code",
   "execution_count": 1940,
   "metadata": {},
   "outputs": [],
   "source": [
    "df.head()\n",
    "df_sample = df.copy()"
   ]
  },
  {
   "cell_type": "code",
   "execution_count": 1944,
   "metadata": {},
   "outputs": [
    {
     "data": {
      "text/html": [
       "<div>\n",
       "<style scoped>\n",
       "    .dataframe tbody tr th:only-of-type {\n",
       "        vertical-align: middle;\n",
       "    }\n",
       "\n",
       "    .dataframe tbody tr th {\n",
       "        vertical-align: top;\n",
       "    }\n",
       "\n",
       "    .dataframe thead th {\n",
       "        text-align: right;\n",
       "    }\n",
       "</style>\n",
       "<table border=\"1\" class=\"dataframe\">\n",
       "  <thead>\n",
       "    <tr style=\"text-align: right;\">\n",
       "      <th></th>\n",
       "      <th>index</th>\n",
       "      <th>maker</th>\n",
       "      <th>specific_origin</th>\n",
       "      <th>ref</th>\n",
       "      <th>review_date</th>\n",
       "      <th>cocoa_percent</th>\n",
       "      <th>company_location</th>\n",
       "      <th>rating</th>\n",
       "      <th>bean_type</th>\n",
       "      <th>broad_origin</th>\n",
       "      <th>ratio</th>\n",
       "    </tr>\n",
       "  </thead>\n",
       "  <tbody>\n",
       "    <tr>\n",
       "      <th>0</th>\n",
       "      <td>100</td>\n",
       "      <td>65</td>\n",
       "      <td>100</td>\n",
       "      <td>761</td>\n",
       "      <td>2011</td>\n",
       "      <td>75.0</td>\n",
       "      <td>1</td>\n",
       "      <td>3.25</td>\n",
       "      <td>2</td>\n",
       "      <td>57</td>\n",
       "      <td>10.146667</td>\n",
       "    </tr>\n",
       "    <tr>\n",
       "      <th>1</th>\n",
       "      <td>101</td>\n",
       "      <td>101</td>\n",
       "      <td>101</td>\n",
       "      <td>903</td>\n",
       "      <td>2012</td>\n",
       "      <td>70.0</td>\n",
       "      <td>2</td>\n",
       "      <td>2.75</td>\n",
       "      <td>2</td>\n",
       "      <td>17</td>\n",
       "      <td>12.900000</td>\n",
       "    </tr>\n",
       "    <tr>\n",
       "      <th>2</th>\n",
       "      <td>102</td>\n",
       "      <td>102</td>\n",
       "      <td>102</td>\n",
       "      <td>1049</td>\n",
       "      <td>2013</td>\n",
       "      <td>70.0</td>\n",
       "      <td>102</td>\n",
       "      <td>3.00</td>\n",
       "      <td>0</td>\n",
       "      <td>4</td>\n",
       "      <td>14.985714</td>\n",
       "    </tr>\n",
       "    <tr>\n",
       "      <th>3</th>\n",
       "      <td>103</td>\n",
       "      <td>103</td>\n",
       "      <td>103</td>\n",
       "      <td>1688</td>\n",
       "      <td>2015</td>\n",
       "      <td>85.0</td>\n",
       "      <td>16</td>\n",
       "      <td>3.00</td>\n",
       "      <td>0</td>\n",
       "      <td>17</td>\n",
       "      <td>19.858824</td>\n",
       "    </tr>\n",
       "    <tr>\n",
       "      <th>4</th>\n",
       "      <td>104</td>\n",
       "      <td>104</td>\n",
       "      <td>104</td>\n",
       "      <td>1454</td>\n",
       "      <td>2015</td>\n",
       "      <td>70.0</td>\n",
       "      <td>2</td>\n",
       "      <td>3.75</td>\n",
       "      <td>60</td>\n",
       "      <td>104</td>\n",
       "      <td>20.771429</td>\n",
       "    </tr>\n",
       "  </tbody>\n",
       "</table>\n",
       "</div>"
      ],
      "text/plain": [
       "   index  maker  specific_origin   ref  review_date  cocoa_percent  \\\n",
       "0    100     65              100   761         2011           75.0   \n",
       "1    101    101              101   903         2012           70.0   \n",
       "2    102    102              102  1049         2013           70.0   \n",
       "3    103    103              103  1688         2015           85.0   \n",
       "4    104    104              104  1454         2015           70.0   \n",
       "\n",
       "   company_location  rating  bean_type  broad_origin      ratio  \n",
       "0                 1    3.25          2            57  10.146667  \n",
       "1                 2    2.75          2            17  12.900000  \n",
       "2               102    3.00          0             4  14.985714  \n",
       "3                16    3.00          0            17  19.858824  \n",
       "4                 2    3.75         60           104  20.771429  "
      ]
     },
     "execution_count": 1944,
     "metadata": {},
     "output_type": "execute_result"
    }
   ],
   "source": [
    "df_sample.head()\n",
    "df_sample.reset_index().head()"
   ]
  },
  {
   "cell_type": "code",
   "execution_count": 1904,
   "metadata": {},
   "outputs": [],
   "source": [
    "# ingenieria de caracteristicas\n",
    "df['rating'] = df['rating'].apply(lambda x : str(x))"
   ]
  },
  {
   "cell_type": "code",
   "execution_count": 1905,
   "metadata": {
    "scrolled": true
   },
   "outputs": [
    {
     "data": {
      "text/html": [
       "<div>\n",
       "<style scoped>\n",
       "    .dataframe tbody tr th:only-of-type {\n",
       "        vertical-align: middle;\n",
       "    }\n",
       "\n",
       "    .dataframe tbody tr th {\n",
       "        vertical-align: top;\n",
       "    }\n",
       "\n",
       "    .dataframe thead th {\n",
       "        text-align: right;\n",
       "    }\n",
       "</style>\n",
       "<table border=\"1\" class=\"dataframe\">\n",
       "  <thead>\n",
       "    <tr style=\"text-align: right;\">\n",
       "      <th></th>\n",
       "      <th>maker</th>\n",
       "      <th>specific_origin</th>\n",
       "      <th>ref</th>\n",
       "      <th>review_date</th>\n",
       "      <th>cocoa_percent</th>\n",
       "      <th>company_location</th>\n",
       "      <th>rating</th>\n",
       "      <th>bean_type</th>\n",
       "      <th>broad_origin</th>\n",
       "      <th>ratio</th>\n",
       "    </tr>\n",
       "  </thead>\n",
       "  <tbody>\n",
       "    <tr>\n",
       "      <th>100</th>\n",
       "      <td>65</td>\n",
       "      <td>100</td>\n",
       "      <td>761</td>\n",
       "      <td>2011</td>\n",
       "      <td>75.0</td>\n",
       "      <td>1</td>\n",
       "      <td>3.25</td>\n",
       "      <td>2</td>\n",
       "      <td>57</td>\n",
       "      <td>10.146667</td>\n",
       "    </tr>\n",
       "    <tr>\n",
       "      <th>101</th>\n",
       "      <td>101</td>\n",
       "      <td>101</td>\n",
       "      <td>903</td>\n",
       "      <td>2012</td>\n",
       "      <td>70.0</td>\n",
       "      <td>2</td>\n",
       "      <td>2.75</td>\n",
       "      <td>2</td>\n",
       "      <td>17</td>\n",
       "      <td>12.900000</td>\n",
       "    </tr>\n",
       "    <tr>\n",
       "      <th>102</th>\n",
       "      <td>102</td>\n",
       "      <td>102</td>\n",
       "      <td>1049</td>\n",
       "      <td>2013</td>\n",
       "      <td>70.0</td>\n",
       "      <td>102</td>\n",
       "      <td>3.0</td>\n",
       "      <td>0</td>\n",
       "      <td>4</td>\n",
       "      <td>14.985714</td>\n",
       "    </tr>\n",
       "    <tr>\n",
       "      <th>103</th>\n",
       "      <td>103</td>\n",
       "      <td>103</td>\n",
       "      <td>1688</td>\n",
       "      <td>2015</td>\n",
       "      <td>85.0</td>\n",
       "      <td>16</td>\n",
       "      <td>3.0</td>\n",
       "      <td>0</td>\n",
       "      <td>17</td>\n",
       "      <td>19.858824</td>\n",
       "    </tr>\n",
       "    <tr>\n",
       "      <th>104</th>\n",
       "      <td>104</td>\n",
       "      <td>104</td>\n",
       "      <td>1454</td>\n",
       "      <td>2015</td>\n",
       "      <td>70.0</td>\n",
       "      <td>2</td>\n",
       "      <td>3.75</td>\n",
       "      <td>60</td>\n",
       "      <td>104</td>\n",
       "      <td>20.771429</td>\n",
       "    </tr>\n",
       "  </tbody>\n",
       "</table>\n",
       "</div>"
      ],
      "text/plain": [
       "     maker  specific_origin   ref  review_date  cocoa_percent  \\\n",
       "100     65              100   761         2011           75.0   \n",
       "101    101              101   903         2012           70.0   \n",
       "102    102              102  1049         2013           70.0   \n",
       "103    103              103  1688         2015           85.0   \n",
       "104    104              104  1454         2015           70.0   \n",
       "\n",
       "     company_location rating  bean_type  broad_origin      ratio  \n",
       "100                 1   3.25          2            57  10.146667  \n",
       "101                 2   2.75          2            17  12.900000  \n",
       "102               102    3.0          0             4  14.985714  \n",
       "103                16    3.0          0            17  19.858824  \n",
       "104                 2   3.75         60           104  20.771429  "
      ]
     },
     "execution_count": 1905,
     "metadata": {},
     "output_type": "execute_result"
    }
   ],
   "source": [
    "ratings = df['rating']\n",
    "ratio = df['ratio']\n",
    "#df = df.iloc[:, :3]\n",
    "df['rating'] = ratings\n",
    "df['ratio'] = ratio\n",
    "\n",
    "df.head()"
   ]
  },
  {
   "cell_type": "code",
   "execution_count": 1906,
   "metadata": {},
   "outputs": [],
   "source": [
    "Y = df['rating']\n",
    "X = df.drop('rating', axis=1)"
   ]
  },
  {
   "cell_type": "code",
   "execution_count": 1907,
   "metadata": {},
   "outputs": [],
   "source": [
    "Y = Y.apply(lambda x : float(x))"
   ]
  },
  {
   "cell_type": "code",
   "execution_count": 1908,
   "metadata": {},
   "outputs": [],
   "source": [
    "# use 20% for testing\n",
    "X_train, X_test, Y_train, Y_test = train_test_split(X, Y, test_size=0.10)"
   ]
  },
  {
   "cell_type": "code",
   "execution_count": 1918,
   "metadata": {},
   "outputs": [],
   "source": [
    "reg_model = RandomForestRegressor(500, n_jobs=-1, random_state=42, max_features=None, max_depth=None)\n",
    "#reg_model = xgbr(n_estimators=500, max_depth=5, subsample=0.8, nthread=-1, learning_rate=0.1)\n",
    "#dt = DecisionTreeRegressor(max_depth=None)\n",
    "#reg_model = AdaBoostRegressor(base_estimator=dt, n_estimators=500, random_state=24)\n",
    "#reg_model = GradientBoostingRegressor(n_estimators=500)\n",
    "#reg_model = LinearRegression()\n",
    "#reg_model = LogisticRegression()"
   ]
  },
  {
   "cell_type": "code",
   "execution_count": 1919,
   "metadata": {},
   "outputs": [
    {
     "data": {
      "text/plain": [
       "RandomForestRegressor(bootstrap=True, criterion='mse', max_depth=None,\n",
       "           max_features=None, max_leaf_nodes=None,\n",
       "           min_impurity_decrease=0.0, min_impurity_split=None,\n",
       "           min_samples_leaf=1, min_samples_split=2,\n",
       "           min_weight_fraction_leaf=0.0, n_estimators=500, n_jobs=-1,\n",
       "           oob_score=False, random_state=42, verbose=0, warm_start=False)"
      ]
     },
     "execution_count": 1919,
     "metadata": {},
     "output_type": "execute_result"
    }
   ],
   "source": [
    "reg_model.fit(X_train, Y_train)"
   ]
  },
  {
   "cell_type": "code",
   "execution_count": 1920,
   "metadata": {},
   "outputs": [
    {
     "name": "stdout",
     "output_type": "stream",
     "text": [
      "Took 0.31 seconds or 0.01 minutes to make predictions on both sets.\n"
     ]
    }
   ],
   "source": [
    "# get predictions for evaluation\n",
    "start_time = time.time()\n",
    "predictions_train = reg_model.predict(X_train) \n",
    "predictions_test = reg_model.predict(X_test)\n",
    "train_sec = time.time() - start_time\n",
    "print(\"Took {0:0.2f} seconds or {1:0.2f} minutes to make predictions on both sets.\".format(train_sec, train_sec/60))"
   ]
  },
  {
   "cell_type": "code",
   "execution_count": 1956,
   "metadata": {},
   "outputs": [
    {
     "name": "stdout",
     "output_type": "stream",
     "text": [
      "TRAIN\n",
      "RMSE: 0.15025\n",
      "R^2: 0.89\n"
     ]
    }
   ],
   "source": [
    "print('TRAIN')\n",
    "print(\"RMSE: {0:0.5f}\".format(np.sqrt(mean_squared_error(predictions_train, Y_train)))) # RMSE (Root Mean Square Error)\n",
    "print(\"R^2: {0:0.2f}\".format(reg_model.score(X_train, Y_train))) # r^2"
   ]
  },
  {
   "cell_type": "code",
   "execution_count": 1958,
   "metadata": {},
   "outputs": [
    {
     "name": "stdout",
     "output_type": "stream",
     "text": [
      "TEST\n",
      "MSE: 0.40512\n",
      "R^2: 0.15\n"
     ]
    }
   ],
   "source": [
    "print('TEST')\n",
    "print(\"MSE: {0:0.5f}\".format(np.sqrt(mean_squared_error(predictions_test, Y_test)))) # RMSE (Root Mean Square Error)\n",
    "print(\"R^2: {0:0.2f}\".format(reg_model.score(X_test, Y_test))) # r^2"
   ]
  },
  {
   "cell_type": "code",
   "execution_count": 1950,
   "metadata": {},
   "outputs": [
    {
     "data": {
      "image/png": "[encoded data removed]",
      "text/plain": [
       "<matplotlib.figure.Figure at 0x7f66886fda90>"
      ]
     },
     "metadata": {},
     "output_type": "display_data"
    }
   ],
   "source": [
    "# make some visualizations of the results on train\n",
    "%matplotlib inline\n",
    "#plt.ylim(ymax=60); plt.ylim(ymin=-5)\n",
    "#plt.xlim(xmax=60); plt.xlim(xmin=-5)\n",
    "plt.rcParams.update({'font.size' : 15})\n",
    "plt.title('Predicciones en Set de Entrenamiento')\n",
    "plt.xlabel('Predicciones')\n",
    "plt.ylabel('Valor Real')\n",
    "plt.scatter(Y_train.values, predictions_train, alpha=0.1)\n",
    "plt.show()"
   ]
  },
  {
   "cell_type": "code",
   "execution_count": 1953,
   "metadata": {},
   "outputs": [
    {
     "data": {
      "image/png": "[encoded data removed]",
      "text/plain": [
       "<matplotlib.figure.Figure at 0x7f666dc6a630>"
      ]
     },
     "metadata": {},
     "output_type": "display_data"
    }
   ],
   "source": [
    "# and on test\n",
    "%matplotlib inline\n",
    "#plt.ylim(ymax=60); plt.ylim(ymin=-5)\n",
    "#plt.xlim(xmax=60); plt.xlim(xmin=-5)\n",
    "plt.rcParams.update({'font.size' : 15})\n",
    "plt.title('Predicciones en Set de Pruebas')\n",
    "plt.xlabel('Predicciones')\n",
    "plt.ylabel('Valor Real')\n",
    "plt.scatter(Y_test.values, predictions_test, alpha=0.1)\n",
    "plt.show()"
   ]
  },
  {
   "cell_type": "code",
   "execution_count": 1925,
   "metadata": {},
   "outputs": [
    {
     "data": {
      "text/plain": [
       "array([ 0.18289566,  0.16095044,  0.12295637,  0.02479244,  0.12474981,\n",
       "        0.07475677,  0.05877493,  0.11449501,  0.13562856])"
      ]
     },
     "execution_count": 1925,
     "metadata": {},
     "output_type": "execute_result"
    }
   ],
   "source": [
    "reg_model.feature_importances_\n"
   ]
  },
  {
   "cell_type": "code",
   "execution_count": 1916,
   "metadata": {},
   "outputs": [],
   "source": [
    "\"\"\"\n",
    "# se obtuvieron despues de experimentar con el algoritmo RandomForestClassifier\n",
    "reg_model.feature_importances_\n",
    "array([ 0.15636299,  0.18863246,  0.12661915,  0.02519107,  0.09489883,\n",
    "        0.0794574 ,  0.06144025,  0.12164413,  0.14575373])\n",
    "\"\"\";"
   ]
  },
  {
   "cell_type": "code",
   "execution_count": 1917,
   "metadata": {},
   "outputs": [],
   "source": [
    "pickle.dump(reg_model, open(\"xgbr.pickle\", \"wb\"))"
   ]
  }
 ],
 "metadata": {
  "kernelspec": {
   "display_name": "Python [default]",
   "language": "python",
   "name": "python3"
  },
  "language_info": {
   "codemirror_mode": {
    "name": "ipython",
    "version": 3
   },
   "file_extension": ".py",
   "mimetype": "text/x-python",
   "name": "python",
   "nbconvert_exporter": "python",
   "pygments_lexer": "ipython3",
   "version": "3.5.5"
  }
 },
 "nbformat": 4,
 "nbformat_minor": 2
}
