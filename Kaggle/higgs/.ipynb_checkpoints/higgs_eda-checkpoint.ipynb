{
 "cells": [
  {
   "cell_type": "code",
   "execution_count": 1,
   "metadata": {
    "collapsed": false
   },
   "outputs": [
    {
     "name": "stdout",
     "output_type": "stream",
     "text": [
      "Loading trainig data\n",
      "finished\n"
     ]
    }
   ],
   "source": [
    "# load training data\n",
    "import pandas as pd\n",
    "print 'Loading trainig data'\n",
    "train_data = pd.read_csv('l_train.csv')\n",
    "print \"finished\""
   ]
  },
  {
   "cell_type": "code",
   "execution_count": 7,
   "metadata": {
    "collapsed": false
   },
   "outputs": [],
   "source": [
    "X = train_data.iloc[:,1:32]\n",
    "y = train_data['Label']"
   ]
  },
  {
   "cell_type": "code",
   "execution_count": 8,
   "metadata": {
    "collapsed": false
   },
   "outputs": [
    {
     "name": "stdout",
     "output_type": "stream",
     "text": [
      "---- Data types by feature ----\n",
      "feature: DER_mass_MMC, types: [<type 'numpy.float64'>]\n",
      "feature: DER_mass_transverse_met_lep, types: [<type 'numpy.float64'>]\n",
      "feature: DER_mass_vis, types: [<type 'numpy.float64'>]\n",
      "feature: DER_pt_h, types: [<type 'numpy.float64'>]\n",
      "feature: DER_deltaeta_jet_jet, types: [<type 'numpy.float64'>]\n",
      "feature: DER_mass_jet_jet, types: [<type 'numpy.float64'>]\n",
      "feature: DER_prodeta_jet_jet, types: [<type 'numpy.float64'>]\n",
      "feature: DER_deltar_tau_lep, types: [<type 'numpy.float64'>]\n",
      "feature: DER_pt_tot, types: [<type 'numpy.float64'>]\n",
      "feature: DER_sum_pt, types: [<type 'numpy.float64'>]\n",
      "feature: DER_pt_ratio_lep_tau, types: [<type 'numpy.float64'>]\n",
      "feature: DER_met_phi_centrality, types: [<type 'numpy.float64'>]\n",
      "feature: DER_lep_eta_centrality, types: [<type 'numpy.float64'>]\n",
      "feature: PRI_tau_pt, types: [<type 'numpy.float64'>]\n",
      "feature: PRI_tau_eta, types: [<type 'numpy.float64'>]\n",
      "feature: PRI_tau_phi, types: [<type 'numpy.float64'>]\n",
      "feature: PRI_lep_pt, types: [<type 'numpy.float64'>]\n",
      "feature: PRI_lep_eta, types: [<type 'numpy.float64'>]\n",
      "feature: PRI_lep_phi, types: [<type 'numpy.float64'>]\n",
      "feature: PRI_met, types: [<type 'numpy.float64'>]\n",
      "feature: PRI_met_phi, types: [<type 'numpy.float64'>]\n",
      "feature: PRI_met_sumet, types: [<type 'numpy.float64'>]\n",
      "feature: PRI_jet_num, types: [<type 'numpy.int64'>]\n",
      "feature: PRI_jet_leading_pt, types: [<type 'numpy.float64'>]\n",
      "feature: PRI_jet_leading_eta, types: [<type 'numpy.float64'>]\n",
      "feature: PRI_jet_leading_phi, types: [<type 'numpy.float64'>]\n",
      "feature: PRI_jet_subleading_pt, types: [<type 'numpy.float64'>]\n",
      "feature: PRI_jet_subleading_eta, types: [<type 'numpy.float64'>]\n",
      "feature: PRI_jet_subleading_phi, types: [<type 'numpy.float64'>]\n",
      "feature: PRI_jet_all_pt, types: [<type 'numpy.float64'>]\n",
      "feature: Weight, types: [<type 'numpy.float64'>]\n"
     ]
    }
   ],
   "source": [
    "import numpy as np\n",
    "# display each column's data type\n",
    "# so we can detect inconsistencies\n",
    "print \"---- Data types by feature ----\"\n",
    "columns =  X.columns\n",
    "for column in columns:\n",
    "    vals = [type(val) for val in X[column].unique()]\n",
    "    print 'feature: {}, types: {}'.format(column, np.unique(vals))"
   ]
  },
  {
   "cell_type": "code",
   "execution_count": 9,
   "metadata": {
    "collapsed": false
   },
   "outputs": [
    {
     "data": {
      "image/png": "[encoded data removed]",
      "text/plain": [
       "<matplotlib.figure.Figure at 0x7f4f7969a890>"
      ]
     },
     "metadata": {},
     "output_type": "display_data"
    }
   ],
   "source": [
    "# first I want to see what correlations exist within features\n",
    "import matplotlib.pyplot as plt\n",
    "\n",
    "# change feature names for numbers\n",
    "# so we can visualize it better\n",
    "def names_to_nums(df_in):\n",
    "    df = df_in.copy()\n",
    "    df.columns = [i for i in range(0, len(df.columns))]\n",
    "    return df\n",
    "# print correlation matrix\n",
    "def plot_corr(df,size=10):\n",
    "    corr = df.corr()\n",
    "    fig, ax = plt.subplots(figsize=(size, size))\n",
    "    ax.matshow(corr)\n",
    "    plt.xticks(range(len(corr.columns)), corr.columns)\n",
    "    plt.yticks(range(len(corr.columns)), corr.columns)\n",
    "    plt.show()\n",
    "    \n",
    "X_nums = names_to_nums(X)\n",
    "plot_corr(X_nums)"
   ]
  },
  {
   "cell_type": "code",
   "execution_count": 10,
   "metadata": {
    "collapsed": false
   },
   "outputs": [
    {
     "name": "stdout",
     "output_type": "stream",
     "text": [
      "[(0, 'DER_mass_MMC'), (1, 'DER_mass_transverse_met_lep'), (2, 'DER_mass_vis'), (3, 'DER_pt_h'), (4, 'DER_deltaeta_jet_jet'), (5, 'DER_mass_jet_jet'), (6, 'DER_prodeta_jet_jet'), (7, 'DER_deltar_tau_lep'), (8, 'DER_pt_tot'), (9, 'DER_sum_pt'), (10, 'DER_pt_ratio_lep_tau'), (11, 'DER_met_phi_centrality'), (12, 'DER_lep_eta_centrality'), (13, 'PRI_tau_pt'), (14, 'PRI_tau_eta'), (15, 'PRI_tau_phi'), (16, 'PRI_lep_pt'), (17, 'PRI_lep_eta'), (18, 'PRI_lep_phi'), (19, 'PRI_met'), (20, 'PRI_met_phi'), (21, 'PRI_met_sumet'), (22, 'PRI_jet_num'), (23, 'PRI_jet_leading_pt'), (24, 'PRI_jet_leading_eta'), (25, 'PRI_jet_leading_phi'), (26, 'PRI_jet_subleading_pt'), (27, 'PRI_jet_subleading_eta'), (28, 'PRI_jet_subleading_phi'), (29, 'PRI_jet_all_pt'), (30, 'Weight')]\n"
     ]
    }
   ],
   "source": [
    "# print list of values so we can see which correspond to which index\n",
    "print [(pos, val) for pos, val in enumerate(X.columns.values)]"
   ]
  },
  {
   "cell_type": "code",
   "execution_count": 31,
   "metadata": {
    "collapsed": false
   },
   "outputs": [],
   "source": [
    "# deal with incorrect values later"
   ]
  },
  {
   "cell_type": "code",
   "execution_count": 11,
   "metadata": {
    "collapsed": false
   },
   "outputs": [
    {
     "name": "stdout",
     "output_type": "stream",
     "text": [
      "DER_mass_MMC with DER_met_phi_centrality, value: 0.358962714301\n",
      "DER_mass_transverse_met_lep with Weight, value: 0.41984342625\n",
      "DER_mass_vis with DER_deltar_tau_lep, value: 0.579711616621\n",
      "DER_pt_h with DER_sum_pt, value: 0.832733066633\n",
      "DER_deltaeta_jet_jet with DER_lep_eta_centrality, value: 0.999998385715\n",
      "DER_mass_jet_jet with PRI_jet_subleading_pt, value: 0.94765180638\n",
      "DER_prodeta_jet_jet with DER_lep_eta_centrality, value: 0.999989674692\n",
      "DER_deltar_tau_lep with DER_mass_vis, value: 0.579711616621\n",
      "DER_pt_tot with PRI_met_sumet, value: 0.448925313766\n",
      "DER_sum_pt with PRI_jet_all_pt, value: 0.965628388917\n",
      "DER_pt_ratio_lep_tau with PRI_lep_pt, value: 0.701142220585\n",
      "DER_met_phi_centrality with PRI_jet_leading_pt, value: 0.548612552356\n",
      "DER_lep_eta_centrality with DER_deltaeta_jet_jet, value: 0.999998385715\n",
      "PRI_tau_pt with DER_sum_pt, value: 0.485847265569\n",
      "PRI_tau_eta with PRI_lep_eta, value: 0.557086147226\n",
      "PRI_tau_phi with PRI_met_phi, value: 0.0329229819913\n",
      "PRI_lep_pt with DER_pt_ratio_lep_tau, value: 0.701142220585\n",
      "PRI_lep_eta with PRI_tau_eta, value: 0.557086147226\n",
      "PRI_lep_phi with PRI_met_phi, value: 0.0231565308412\n",
      "PRI_met with DER_pt_h, value: 0.679585495558\n",
      "PRI_met_phi with PRI_tau_phi, value: 0.0329229819913\n",
      "PRI_met_sumet with DER_sum_pt, value: 0.904481459569\n",
      "PRI_jet_num with PRI_jet_subleading_pt, value: 0.869620617472\n",
      "PRI_jet_leading_pt with PRI_jet_leading_eta, value: 0.99610001226\n",
      "PRI_jet_leading_eta with PRI_jet_leading_phi, value: 0.999991836893\n",
      "PRI_jet_leading_phi with PRI_jet_leading_eta, value: 0.999991836893\n",
      "PRI_jet_subleading_pt with DER_lep_eta_centrality, value: 0.999354631183\n",
      "PRI_jet_subleading_eta with DER_lep_eta_centrality, value: 0.999996975983\n",
      "PRI_jet_subleading_phi with DER_lep_eta_centrality, value: 0.999997556573\n",
      "PRI_jet_all_pt with DER_sum_pt, value: 0.965628388917\n",
      "Weight with DER_mass_transverse_met_lep, value: 0.41984342625\n"
     ]
    }
   ],
   "source": [
    "corr_tups = []\n",
    "# make a numerical visualization of the correlations\n",
    "for column in X.columns:\n",
    "    corr = X.corr()[column]\n",
    "    corr_dict = corr.to_dict()\n",
    "    del corr_dict[column]\n",
    "    max_key = max(corr_dict, key=lambda k: corr_dict[k])\n",
    "    pair = (column, max_key, corr_dict[max_key])\n",
    "    corr_tups.append(pair)\n",
    "    print '{} with {}, value: {}'.format(column, max_key, corr_dict[max_key])"
   ]
  },
  {
   "cell_type": "code",
   "execution_count": 73,
   "metadata": {
    "collapsed": false
   },
   "outputs": [
    {
     "data": {
      "text/plain": [
       "[('DER_deltaeta_jet_jet', 'DER_lep_eta_centrality', 0.99999838571508559),\n",
       " ('DER_prodeta_jet_jet', 'DER_lep_eta_centrality', 0.9999896746922442),\n",
       " ('DER_sum_pt', 'PRI_jet_all_pt', 0.96562838891691405),\n",
       " ('PRI_jet_leading_pt', 'PRI_jet_leading_eta', 0.99610001226022604),\n",
       " ('PRI_jet_leading_eta', 'PRI_jet_leading_phi', 0.99999183689272975),\n",
       " ('PRI_jet_subleading_pt', 'DER_lep_eta_centrality', 0.99935463118318435),\n",
       " ('PRI_jet_subleading_eta', 'DER_lep_eta_centrality', 0.99999697598278958),\n",
       " ('PRI_jet_subleading_phi', 'DER_lep_eta_centrality', 0.99999755657338452)]"
      ]
     },
     "execution_count": 73,
     "metadata": {},
     "output_type": "execute_result"
    }
   ],
   "source": [
    "# get only features that have more than 0.90 correlation\n",
    "min_corr = 0.95\n",
    "corr_tups = filter(lambda tup: tup[2] > min_corr, corr_tups)\n",
    "\n",
    "# remove symetric duplicates\n",
    "corr_vals = []\n",
    "_ = [\n",
    "    corr_vals.append((a,b,c)) for a,b,c in corr_tups\n",
    "    if (b,a,c) not in corr_vals\n",
    "]\n",
    "corr_vals"
   ]
  },
  {
   "cell_type": "code",
   "execution_count": 89,
   "metadata": {
    "collapsed": false
   },
   "outputs": [
    {
     "data": {
      "image/png": "[encoded data removed]",
      "text/plain": [
       "<matplotlib.figure.Figure at 0x7f4f5e56f690>"
      ]
     },
     "metadata": {},
     "output_type": "display_data"
    }
   ],
   "source": [
    "# plot some correlated features\n",
    "\n",
    "subs = 123\n",
    "plt.subplot(4,2,1)\n",
    "for col1, col2, _ in corr_vals:\n",
    "    #ax = plt.subplot(4,2,subs+1)\n",
    "    #subs = subs + 1\n",
    "    #if subs == 327: break\n",
    "    subs = subs + 1\n",
    "    plt.subplot(subs)\n",
    "    plt.scatter(X[col1], X[col2], s=10, marker=\"o\")\n",
    "    plt.xlabel(col1)\n",
    "    plt.ylabel(col2)\n",
    "    plt.xticks([])\n",
    "    plt.yticks([])\n",
    "\n",
    "plt.subplots_adjust(left=0.5, bottom=0.5, right=1, top=2, wspace=1, hspace=1)\n",
    "plt.show()\n"
   ]
  },
  {
   "cell_type": "code",
   "execution_count": 13,
   "metadata": {
    "collapsed": true
   },
   "outputs": [],
   "source": [
    "# SelectKBest\n",
    "from sklearn.feature_selection import SelectKBest\n",
    "from sklearn.feature_selection import f_classif # for classification tasks\n",
    "\n",
    "X_new = SelectKBest(f_classif, k=20).fit_transform(X, y)"
   ]
  },
  {
   "cell_type": "code",
   "execution_count": 14,
   "metadata": {
    "collapsed": false
   },
   "outputs": [
    {
     "name": "stdout",
     "output_type": "stream",
     "text": [
      "['DER_mass_MMC', 'DER_mass_transverse_met_lep', 'DER_pt_h', 'DER_deltaeta_jet_jet', 'DER_mass_jet_jet', 'DER_prodeta_jet_jet', 'DER_sum_pt', 'DER_pt_ratio_lep_tau', 'DER_met_phi_centrality', 'DER_lep_eta_centrality', 'PRI_tau_pt', 'PRI_met_sumet', 'PRI_jet_leading_pt', 'PRI_jet_leading_eta', 'PRI_jet_leading_phi', 'PRI_jet_subleading_pt', 'PRI_jet_subleading_eta', 'PRI_jet_subleading_phi', 'PRI_jet_all_pt', 'Weight']\n"
     ]
    }
   ],
   "source": [
    "# get names of the k most important features by looking at the first value of the X_new columns\n",
    "feature_names = [name for name in X.columns if X[name].values[0] in X_new[0]]\n",
    "print feature_names"
   ]
  },
  {
   "cell_type": "code",
   "execution_count": 15,
   "metadata": {
    "collapsed": false
   },
   "outputs": [
    {
     "name": "stdout",
     "output_type": "stream",
     "text": [
      "Feature ranking:\n",
      "1. feature 30 (0.595131)\n",
      "2. feature 0 (0.050086)\n",
      "3. feature 11 (0.036237)\n",
      "4. feature 1 (0.028234)\n",
      "5. feature 2 (0.026737)\n",
      "6. feature 7 (0.022401)\n",
      "7. feature 13 (0.018498)\n",
      "8. feature 10 (0.017647)\n",
      "9. feature 12 (0.014676)\n",
      "10. feature 4 (0.012760)\n",
      "11. feature 19 (0.012116)\n",
      "12. feature 24 (0.011657)\n",
      "13. feature 9 (0.011283)\n",
      "14. feature 8 (0.010877)\n",
      "15. feature 22 (0.010811)\n",
      "16. feature 3 (0.010672)\n",
      "17. feature 5 (0.010120)\n",
      "18. feature 17 (0.009224)\n",
      "19. feature 16 (0.008784)\n",
      "20. feature 21 (0.008761)\n",
      "21. feature 25 (0.008487)\n",
      "22. feature 23 (0.008295)\n",
      "23. feature 14 (0.008232)\n",
      "24. feature 6 (0.007210)\n",
      "25. feature 29 (0.006933)\n",
      "26. feature 20 (0.006459)\n",
      "27. feature 18 (0.006387)\n",
      "28. feature 15 (0.006289)\n",
      "29. feature 27 (0.005813)\n",
      "30. feature 26 (0.004790)\n",
      "31. feature 28 (0.004392)\n"
     ]
    },
    {
     "data": {
      "image/png": "[encoded data removed]",
      "text/plain": [
       "<matplotlib.figure.Figure at 0x7f4f684295d0>"
      ]
     },
     "metadata": {},
     "output_type": "display_data"
    }
   ],
   "source": [
    "# plot feature importances using random trees\n",
    "from sklearn.ensemble import ExtraTreesClassifier\n",
    "from sklearn.feature_selection import SelectFromModel\n",
    "import matplotlib.pyplot as plt\n",
    "\n",
    "# Build a forest and compute the feature importances\n",
    "forest = ExtraTreesClassifier(n_estimators=250,\n",
    "                              random_state=0)\n",
    "\n",
    "forest.fit(X, y)\n",
    "importances = forest.feature_importances_\n",
    "std = np.std([tree.feature_importances_ for tree in forest.estimators_],\n",
    "             axis=0)\n",
    "indices = np.argsort(importances)[::-1]\n",
    "\n",
    "# Print the feature ranking\n",
    "print(\"Feature ranking:\")\n",
    "\n",
    "for f in range(X.shape[1]):\n",
    "    print(\"%d. feature %d (%f)\" % (f + 1, indices[f], importances[indices[f]]))\n",
    "\n",
    "# Plot the feature importances of the forest\n",
    "plt.figure()\n",
    "plt.title(\"Feature importances\")\n",
    "plt.bar(range(X.shape[1]), importances[indices],\n",
    "       color=\"r\", yerr=std[indices], align=\"center\")\n",
    "plt.xticks(range(X.shape[1]), indices)\n",
    "plt.xlim([-1, X.shape[1]])\n",
    "plt.show()"
   ]
  },
  {
   "cell_type": "code",
   "execution_count": null,
   "metadata": {
    "collapsed": true
   },
   "outputs": [],
   "source": []
  }
 ],
 "metadata": {
  "anaconda-cloud": {},
  "kernelspec": {
   "display_name": "Python [default]",
   "language": "python",
   "name": "python2"
  },
  "language_info": {
   "codemirror_mode": {
    "name": "ipython",
    "version": 2
   },
   "file_extension": ".py",
   "mimetype": "text/x-python",
   "name": "python",
   "nbconvert_exporter": "python",
   "pygments_lexer": "ipython2",
   "version": "2.7.12"
  }
 },
 "nbformat": 4,
 "nbformat_minor": 1
}
