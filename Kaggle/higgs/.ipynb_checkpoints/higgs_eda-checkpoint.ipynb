{
 "cells": [
  {
   "cell_type": "code",
   "execution_count": 9,
   "metadata": {
    "collapsed": false
   },
   "outputs": [
    {
     "name": "stdout",
     "output_type": "stream",
     "text": [
      "Loading trainig data\n",
      "finished\n"
     ]
    }
   ],
   "source": [
    "# load training data\n",
    "import pandas as pd\n",
    "print 'Loading trainig data'\n",
    "train_data = pd.read_csv('l_train.csv')\n",
    "print \"finished\""
   ]
  },
  {
   "cell_type": "code",
   "execution_count": 49,
   "metadata": {
    "collapsed": false
   },
   "outputs": [
    {
     "name": "stdout",
     "output_type": "stream",
     "text": [
      "0    s\n",
      "1    b\n",
      "2    b\n",
      "3    b\n",
      "4    b\n",
      "Name: Label, dtype: object\n"
     ]
    },
    {
     "data": {
      "text/html": [
       "<div>\n",
       "<table border=\"1\" class=\"dataframe\">\n",
       "  <thead>\n",
       "    <tr style=\"text-align: right;\">\n",
       "      <th></th>\n",
       "      <th>DER_mass_MMC</th>\n",
       "      <th>DER_mass_transverse_met_lep</th>\n",
       "      <th>DER_mass_vis</th>\n",
       "      <th>DER_pt_h</th>\n",
       "      <th>DER_deltaeta_jet_jet</th>\n",
       "      <th>DER_mass_jet_jet</th>\n",
       "      <th>DER_prodeta_jet_jet</th>\n",
       "      <th>DER_deltar_tau_lep</th>\n",
       "      <th>DER_pt_tot</th>\n",
       "      <th>DER_sum_pt</th>\n",
       "      <th>...</th>\n",
       "      <th>PRI_met_sumet</th>\n",
       "      <th>PRI_jet_num</th>\n",
       "      <th>PRI_jet_leading_pt</th>\n",
       "      <th>PRI_jet_leading_eta</th>\n",
       "      <th>PRI_jet_leading_phi</th>\n",
       "      <th>PRI_jet_subleading_pt</th>\n",
       "      <th>PRI_jet_subleading_eta</th>\n",
       "      <th>PRI_jet_subleading_phi</th>\n",
       "      <th>PRI_jet_all_pt</th>\n",
       "      <th>Weight</th>\n",
       "    </tr>\n",
       "  </thead>\n",
       "  <tbody>\n",
       "    <tr>\n",
       "      <th>0</th>\n",
       "      <td>138.470</td>\n",
       "      <td>51.655</td>\n",
       "      <td>97.827</td>\n",
       "      <td>27.980</td>\n",
       "      <td>0.91</td>\n",
       "      <td>124.711</td>\n",
       "      <td>2.666</td>\n",
       "      <td>3.064</td>\n",
       "      <td>41.928</td>\n",
       "      <td>197.760</td>\n",
       "      <td>...</td>\n",
       "      <td>258.733</td>\n",
       "      <td>2</td>\n",
       "      <td>67.435</td>\n",
       "      <td>2.150</td>\n",
       "      <td>0.444</td>\n",
       "      <td>46.062</td>\n",
       "      <td>1.24</td>\n",
       "      <td>-2.475</td>\n",
       "      <td>113.497</td>\n",
       "      <td>0.002653</td>\n",
       "    </tr>\n",
       "    <tr>\n",
       "      <th>1</th>\n",
       "      <td>160.937</td>\n",
       "      <td>68.768</td>\n",
       "      <td>103.235</td>\n",
       "      <td>48.146</td>\n",
       "      <td>-999.00</td>\n",
       "      <td>-999.000</td>\n",
       "      <td>-999.000</td>\n",
       "      <td>3.473</td>\n",
       "      <td>2.078</td>\n",
       "      <td>125.157</td>\n",
       "      <td>...</td>\n",
       "      <td>164.546</td>\n",
       "      <td>1</td>\n",
       "      <td>46.226</td>\n",
       "      <td>0.725</td>\n",
       "      <td>1.158</td>\n",
       "      <td>-999.000</td>\n",
       "      <td>-999.00</td>\n",
       "      <td>-999.000</td>\n",
       "      <td>46.226</td>\n",
       "      <td>2.233584</td>\n",
       "    </tr>\n",
       "    <tr>\n",
       "      <th>2</th>\n",
       "      <td>-999.000</td>\n",
       "      <td>162.172</td>\n",
       "      <td>125.953</td>\n",
       "      <td>35.635</td>\n",
       "      <td>-999.00</td>\n",
       "      <td>-999.000</td>\n",
       "      <td>-999.000</td>\n",
       "      <td>3.148</td>\n",
       "      <td>9.336</td>\n",
       "      <td>197.814</td>\n",
       "      <td>...</td>\n",
       "      <td>260.414</td>\n",
       "      <td>1</td>\n",
       "      <td>44.251</td>\n",
       "      <td>2.053</td>\n",
       "      <td>-2.028</td>\n",
       "      <td>-999.000</td>\n",
       "      <td>-999.00</td>\n",
       "      <td>-999.000</td>\n",
       "      <td>44.251</td>\n",
       "      <td>2.347389</td>\n",
       "    </tr>\n",
       "    <tr>\n",
       "      <th>3</th>\n",
       "      <td>143.905</td>\n",
       "      <td>81.417</td>\n",
       "      <td>80.943</td>\n",
       "      <td>0.414</td>\n",
       "      <td>-999.00</td>\n",
       "      <td>-999.000</td>\n",
       "      <td>-999.000</td>\n",
       "      <td>3.310</td>\n",
       "      <td>0.414</td>\n",
       "      <td>75.968</td>\n",
       "      <td>...</td>\n",
       "      <td>86.062</td>\n",
       "      <td>0</td>\n",
       "      <td>-999.000</td>\n",
       "      <td>-999.000</td>\n",
       "      <td>-999.000</td>\n",
       "      <td>-999.000</td>\n",
       "      <td>-999.00</td>\n",
       "      <td>-999.000</td>\n",
       "      <td>-0.000</td>\n",
       "      <td>5.446378</td>\n",
       "    </tr>\n",
       "    <tr>\n",
       "      <th>4</th>\n",
       "      <td>175.864</td>\n",
       "      <td>16.915</td>\n",
       "      <td>134.805</td>\n",
       "      <td>16.405</td>\n",
       "      <td>-999.00</td>\n",
       "      <td>-999.000</td>\n",
       "      <td>-999.000</td>\n",
       "      <td>3.891</td>\n",
       "      <td>16.405</td>\n",
       "      <td>57.983</td>\n",
       "      <td>...</td>\n",
       "      <td>53.131</td>\n",
       "      <td>0</td>\n",
       "      <td>-999.000</td>\n",
       "      <td>-999.000</td>\n",
       "      <td>-999.000</td>\n",
       "      <td>-999.000</td>\n",
       "      <td>-999.00</td>\n",
       "      <td>-999.000</td>\n",
       "      <td>0.000</td>\n",
       "      <td>6.245333</td>\n",
       "    </tr>\n",
       "  </tbody>\n",
       "</table>\n",
       "<p>5 rows × 31 columns</p>\n",
       "</div>"
      ],
      "text/plain": [
       "   DER_mass_MMC  DER_mass_transverse_met_lep  DER_mass_vis  DER_pt_h  \\\n",
       "0       138.470                       51.655        97.827    27.980   \n",
       "1       160.937                       68.768       103.235    48.146   \n",
       "2      -999.000                      162.172       125.953    35.635   \n",
       "3       143.905                       81.417        80.943     0.414   \n",
       "4       175.864                       16.915       134.805    16.405   \n",
       "\n",
       "   DER_deltaeta_jet_jet  DER_mass_jet_jet  DER_prodeta_jet_jet  \\\n",
       "0                  0.91           124.711                2.666   \n",
       "1               -999.00          -999.000             -999.000   \n",
       "2               -999.00          -999.000             -999.000   \n",
       "3               -999.00          -999.000             -999.000   \n",
       "4               -999.00          -999.000             -999.000   \n",
       "\n",
       "   DER_deltar_tau_lep  DER_pt_tot  DER_sum_pt    ...     PRI_met_sumet  \\\n",
       "0               3.064      41.928     197.760    ...           258.733   \n",
       "1               3.473       2.078     125.157    ...           164.546   \n",
       "2               3.148       9.336     197.814    ...           260.414   \n",
       "3               3.310       0.414      75.968    ...            86.062   \n",
       "4               3.891      16.405      57.983    ...            53.131   \n",
       "\n",
       "   PRI_jet_num  PRI_jet_leading_pt  PRI_jet_leading_eta  PRI_jet_leading_phi  \\\n",
       "0            2              67.435                2.150                0.444   \n",
       "1            1              46.226                0.725                1.158   \n",
       "2            1              44.251                2.053               -2.028   \n",
       "3            0            -999.000             -999.000             -999.000   \n",
       "4            0            -999.000             -999.000             -999.000   \n",
       "\n",
       "   PRI_jet_subleading_pt  PRI_jet_subleading_eta  PRI_jet_subleading_phi  \\\n",
       "0                 46.062                    1.24                  -2.475   \n",
       "1               -999.000                 -999.00                -999.000   \n",
       "2               -999.000                 -999.00                -999.000   \n",
       "3               -999.000                 -999.00                -999.000   \n",
       "4               -999.000                 -999.00                -999.000   \n",
       "\n",
       "   PRI_jet_all_pt    Weight  \n",
       "0         113.497  0.002653  \n",
       "1          46.226  2.233584  \n",
       "2          44.251  2.347389  \n",
       "3          -0.000  5.446378  \n",
       "4           0.000  6.245333  \n",
       "\n",
       "[5 rows x 31 columns]"
      ]
     },
     "execution_count": 49,
     "metadata": {},
     "output_type": "execute_result"
    }
   ],
   "source": [
    "X = train_data.iloc[:,1:32]\n",
    "y = train_data['Label']\n",
    "print y.head()\n",
    "X.head(5)"
   ]
  },
  {
   "cell_type": "code",
   "execution_count": 4,
   "metadata": {
    "collapsed": false
   },
   "outputs": [
    {
     "name": "stdout",
     "output_type": "stream",
     "text": [
      "---- Data types by feature ----\n",
      "feature: DER_mass_MMC, types: [<type 'numpy.float64'>]\n",
      "feature: DER_mass_transverse_met_lep, types: [<type 'numpy.float64'>]\n",
      "feature: DER_mass_vis, types: [<type 'numpy.float64'>]\n",
      "feature: DER_pt_h, types: [<type 'numpy.float64'>]\n",
      "feature: DER_deltaeta_jet_jet, types: [<type 'numpy.float64'>]\n",
      "feature: DER_mass_jet_jet, types: [<type 'numpy.float64'>]\n",
      "feature: DER_prodeta_jet_jet, types: [<type 'numpy.float64'>]\n",
      "feature: DER_deltar_tau_lep, types: [<type 'numpy.float64'>]\n",
      "feature: DER_pt_tot, types: [<type 'numpy.float64'>]\n",
      "feature: DER_sum_pt, types: [<type 'numpy.float64'>]\n",
      "feature: DER_pt_ratio_lep_tau, types: [<type 'numpy.float64'>]\n",
      "feature: DER_met_phi_centrality, types: [<type 'numpy.float64'>]\n",
      "feature: DER_lep_eta_centrality, types: [<type 'numpy.float64'>]\n",
      "feature: PRI_tau_pt, types: [<type 'numpy.float64'>]\n",
      "feature: PRI_tau_eta, types: [<type 'numpy.float64'>]\n",
      "feature: PRI_tau_phi, types: [<type 'numpy.float64'>]\n",
      "feature: PRI_lep_pt, types: [<type 'numpy.float64'>]\n",
      "feature: PRI_lep_eta, types: [<type 'numpy.float64'>]\n",
      "feature: PRI_lep_phi, types: [<type 'numpy.float64'>]\n",
      "feature: PRI_met, types: [<type 'numpy.float64'>]\n",
      "feature: PRI_met_phi, types: [<type 'numpy.float64'>]\n",
      "feature: PRI_met_sumet, types: [<type 'numpy.float64'>]\n",
      "feature: PRI_jet_num, types: [<type 'numpy.int64'>]\n",
      "feature: PRI_jet_leading_pt, types: [<type 'numpy.float64'>]\n",
      "feature: PRI_jet_leading_eta, types: [<type 'numpy.float64'>]\n",
      "feature: PRI_jet_leading_phi, types: [<type 'numpy.float64'>]\n",
      "feature: PRI_jet_subleading_pt, types: [<type 'numpy.float64'>]\n",
      "feature: PRI_jet_subleading_eta, types: [<type 'numpy.float64'>]\n",
      "feature: PRI_jet_subleading_phi, types: [<type 'numpy.float64'>]\n",
      "feature: PRI_jet_all_pt, types: [<type 'numpy.float64'>]\n",
      "feature: Weight, types: [<type 'numpy.float64'>]\n"
     ]
    }
   ],
   "source": [
    "import numpy as np\n",
    "# display each column's data type\n",
    "# so we can detect inconsistencies\n",
    "print \"---- Data types by feature ----\"\n",
    "columns =  X.columns\n",
    "for column in columns:\n",
    "    vals = [type(val) for val in X[column].unique()]\n",
    "    print 'feature: {}, types: {}'.format(column, np.unique(vals))"
   ]
  },
  {
   "cell_type": "code",
   "execution_count": 5,
   "metadata": {
    "collapsed": false
   },
   "outputs": [
    {
     "data": {
      "image/png": "[encoded data removed]",
      "text/plain": [
       "<matplotlib.figure.Figure at 0x7f439a65d2d0>"
      ]
     },
     "metadata": {},
     "output_type": "display_data"
    }
   ],
   "source": [
    "# first I want to see what correlations exist within features\n",
    "import matplotlib.pyplot as plt\n",
    "\n",
    "# change feature names for numbers\n",
    "# so we can visualize it better\n",
    "def names_to_nums(df_in):\n",
    "    df = df_in.copy()\n",
    "    df.columns = [i for i in range(0, len(df.columns))]\n",
    "    return df\n",
    "# print correlation matrix\n",
    "def plot_corr(df,size=10):\n",
    "    corr = df.corr()\n",
    "    fig, ax = plt.subplots(figsize=(size, size))\n",
    "    ax.matshow(corr)\n",
    "    plt.xticks(range(len(corr.columns)), corr.columns)\n",
    "    plt.yticks(range(len(corr.columns)), corr.columns)\n",
    "    plt.show()\n",
    "    \n",
    "X_nums = names_to_nums(X)\n",
    "plot_corr(X_nums)"
   ]
  },
  {
   "cell_type": "code",
   "execution_count": 6,
   "metadata": {
    "collapsed": false
   },
   "outputs": [
    {
     "name": "stdout",
     "output_type": "stream",
     "text": [
      "[(0, 'DER_mass_MMC'), (1, 'DER_mass_transverse_met_lep'), (2, 'DER_mass_vis'), (3, 'DER_pt_h'), (4, 'DER_deltaeta_jet_jet'), (5, 'DER_mass_jet_jet'), (6, 'DER_prodeta_jet_jet'), (7, 'DER_deltar_tau_lep'), (8, 'DER_pt_tot'), (9, 'DER_sum_pt'), (10, 'DER_pt_ratio_lep_tau'), (11, 'DER_met_phi_centrality'), (12, 'DER_lep_eta_centrality'), (13, 'PRI_tau_pt'), (14, 'PRI_tau_eta'), (15, 'PRI_tau_phi'), (16, 'PRI_lep_pt'), (17, 'PRI_lep_eta'), (18, 'PRI_lep_phi'), (19, 'PRI_met'), (20, 'PRI_met_phi'), (21, 'PRI_met_sumet'), (22, 'PRI_jet_num'), (23, 'PRI_jet_leading_pt'), (24, 'PRI_jet_leading_eta'), (25, 'PRI_jet_leading_phi'), (26, 'PRI_jet_subleading_pt'), (27, 'PRI_jet_subleading_eta'), (28, 'PRI_jet_subleading_phi'), (29, 'PRI_jet_all_pt'), (30, 'Weight')]\n"
     ]
    }
   ],
   "source": [
    "# print list of values so we can see which correspond to which index\n",
    "print [(pos, val) for pos, val in enumerate(X.columns.values)]"
   ]
  },
  {
   "cell_type": "code",
   "execution_count": 31,
   "metadata": {
    "collapsed": false
   },
   "outputs": [],
   "source": [
    "# deal with incorrect values later"
   ]
  },
  {
   "cell_type": "code",
   "execution_count": 7,
   "metadata": {
    "collapsed": false
   },
   "outputs": [
    {
     "name": "stdout",
     "output_type": "stream",
     "text": [
      "DER_mass_MMC with DER_met_phi_centrality, value: 0.358962714301\n",
      "DER_mass_transverse_met_lep with Weight, value: 0.41984342625\n",
      "DER_mass_vis with DER_deltar_tau_lep, value: 0.579711616621\n",
      "DER_pt_h with DER_sum_pt, value: 0.832733066633\n",
      "DER_deltaeta_jet_jet with DER_lep_eta_centrality, value: 0.999998385715\n",
      "DER_mass_jet_jet with PRI_jet_subleading_pt, value: 0.94765180638\n",
      "DER_prodeta_jet_jet with DER_lep_eta_centrality, value: 0.999989674692\n",
      "DER_deltar_tau_lep with DER_mass_vis, value: 0.579711616621\n",
      "DER_pt_tot with PRI_met_sumet, value: 0.448925313766\n",
      "DER_sum_pt with PRI_jet_all_pt, value: 0.965628388917\n",
      "DER_pt_ratio_lep_tau with PRI_lep_pt, value: 0.701142220585\n",
      "DER_met_phi_centrality with PRI_jet_leading_pt, value: 0.548612552356\n",
      "DER_lep_eta_centrality with DER_deltaeta_jet_jet, value: 0.999998385715\n",
      "PRI_tau_pt with DER_sum_pt, value: 0.485847265569\n",
      "PRI_tau_eta with PRI_lep_eta, value: 0.557086147226\n",
      "PRI_tau_phi with PRI_met_phi, value: 0.0329229819913\n",
      "PRI_lep_pt with DER_pt_ratio_lep_tau, value: 0.701142220585\n",
      "PRI_lep_eta with PRI_tau_eta, value: 0.557086147226\n",
      "PRI_lep_phi with PRI_met_phi, value: 0.0231565308412\n",
      "PRI_met with DER_pt_h, value: 0.679585495558\n",
      "PRI_met_phi with PRI_tau_phi, value: 0.0329229819913\n",
      "PRI_met_sumet with DER_sum_pt, value: 0.904481459569\n",
      "PRI_jet_num with PRI_jet_subleading_pt, value: 0.869620617472\n",
      "PRI_jet_leading_pt with PRI_jet_leading_eta, value: 0.99610001226\n",
      "PRI_jet_leading_eta with PRI_jet_leading_phi, value: 0.999991836893\n",
      "PRI_jet_leading_phi with PRI_jet_leading_eta, value: 0.999991836893\n",
      "PRI_jet_subleading_pt with DER_lep_eta_centrality, value: 0.999354631183\n",
      "PRI_jet_subleading_eta with DER_lep_eta_centrality, value: 0.999996975983\n",
      "PRI_jet_subleading_phi with DER_lep_eta_centrality, value: 0.999997556573\n",
      "PRI_jet_all_pt with DER_sum_pt, value: 0.965628388917\n",
      "Weight with DER_mass_transverse_met_lep, value: 0.41984342625\n"
     ]
    }
   ],
   "source": [
    "corr_tups = []\n",
    "# make a numerical visualization of the correlations\n",
    "for column in X.columns:\n",
    "    corr = X.corr()[column]\n",
    "    corr_dict = corr.to_dict()\n",
    "    del corr_dict[column]\n",
    "    max_key = max(corr_dict, key=lambda k: corr_dict[k])\n",
    "    pair = (column, max_key, corr_dict[max_key])\n",
    "    corr_tups.append(pair)\n",
    "    print '{} with {}, value: {}'.format(column, max_key, corr_dict[max_key])"
   ]
  },
  {
   "cell_type": "code",
   "execution_count": 8,
   "metadata": {
    "collapsed": false
   },
   "outputs": [
    {
     "data": {
      "text/plain": [
       "[('DER_deltaeta_jet_jet', 'DER_lep_eta_centrality', 0.99999838571508559),\n",
       " ('DER_prodeta_jet_jet', 'DER_lep_eta_centrality', 0.9999896746922442),\n",
       " ('DER_sum_pt', 'PRI_jet_all_pt', 0.96562838891691405),\n",
       " ('PRI_jet_leading_pt', 'PRI_jet_leading_eta', 0.99610001226022604),\n",
       " ('PRI_jet_leading_eta', 'PRI_jet_leading_phi', 0.99999183689272975),\n",
       " ('PRI_jet_subleading_pt', 'DER_lep_eta_centrality', 0.99935463118318435),\n",
       " ('PRI_jet_subleading_eta', 'DER_lep_eta_centrality', 0.99999697598278958),\n",
       " ('PRI_jet_subleading_phi', 'DER_lep_eta_centrality', 0.99999755657338452)]"
      ]
     },
     "execution_count": 8,
     "metadata": {},
     "output_type": "execute_result"
    }
   ],
   "source": [
    "# get only features that have more than 0.90 correlation\n",
    "min_corr = 0.95\n",
    "corr_tups = filter(lambda tup: tup[2] > min_corr, corr_tups)\n",
    "\n",
    "# remove symetric duplicates\n",
    "corr_vals = []\n",
    "_ = [\n",
    "    corr_vals.append((a,b,c)) for a,b,c in corr_tups\n",
    "    if (b,a,c) not in corr_vals\n",
    "]\n",
    "corr_vals"
   ]
  },
  {
   "cell_type": "code",
   "execution_count": 103,
   "metadata": {
    "collapsed": false
   },
   "outputs": [
    {
     "data": {
      "image/png": "[encoded data removed]",
      "text/plain": [
       "<matplotlib.figure.Figure at 0x7f4f5e2a0b90>"
      ]
     },
     "metadata": {},
     "output_type": "display_data"
    }
   ],
   "source": [
    "# plot some correlated features\n",
    "subs = 0\n",
    "for col1, col2, _ in corr_vals:\n",
    "    subs = subs + 1\n",
    "    plt.subplot(2,4,subs)\n",
    "    plt.scatter(X[col1], X[col2], s=10, marker=\"o\")\n",
    "    plt.xlabel(col1)\n",
    "    plt.ylabel(col2)\n",
    "    plt.xticks([])\n",
    "    plt.yticks([])\n",
    "    \n",
    "plt.subplots_adjust(left=1, bottom=2, right=3, top=3, wspace=1, hspace=1)\n",
    "plt.show()"
   ]
  },
  {
   "cell_type": "code",
   "execution_count": 52,
   "metadata": {
    "collapsed": false
   },
   "outputs": [
    {
     "name": "stdout",
     "output_type": "stream",
     "text": [
      "24\n",
      "24\n"
     ]
    },
    {
     "data": {
      "text/html": [
       "<div>\n",
       "<table border=\"1\" class=\"dataframe\">\n",
       "  <thead>\n",
       "    <tr style=\"text-align: right;\">\n",
       "      <th></th>\n",
       "      <th>DER_mass_MMC</th>\n",
       "      <th>DER_mass_transverse_met_lep</th>\n",
       "      <th>DER_mass_vis</th>\n",
       "      <th>DER_pt_h</th>\n",
       "      <th>DER_deltar_tau_lep</th>\n",
       "      <th>DER_pt_tot</th>\n",
       "      <th>DER_sum_pt</th>\n",
       "      <th>DER_pt_ratio_lep_tau</th>\n",
       "      <th>DER_met_phi_centrality</th>\n",
       "      <th>PRI_tau_pt</th>\n",
       "      <th>...</th>\n",
       "      <th>PRI_lep_phi</th>\n",
       "      <th>PRI_met</th>\n",
       "      <th>PRI_met_phi</th>\n",
       "      <th>PRI_met_sumet</th>\n",
       "      <th>PRI_jet_num</th>\n",
       "      <th>PRI_jet_leading_pt</th>\n",
       "      <th>PRI_jet_leading_eta</th>\n",
       "      <th>PRI_jet_leading_phi</th>\n",
       "      <th>PRI_jet_all_pt</th>\n",
       "      <th>Weight</th>\n",
       "    </tr>\n",
       "  </thead>\n",
       "  <tbody>\n",
       "    <tr>\n",
       "      <th>0</th>\n",
       "      <td>138.470000</td>\n",
       "      <td>51.655</td>\n",
       "      <td>97.827</td>\n",
       "      <td>27.980</td>\n",
       "      <td>3.064</td>\n",
       "      <td>41.928</td>\n",
       "      <td>197.760</td>\n",
       "      <td>1.582</td>\n",
       "      <td>1.396</td>\n",
       "      <td>32.638</td>\n",
       "      <td>...</td>\n",
       "      <td>-2.414</td>\n",
       "      <td>16.824</td>\n",
       "      <td>-0.277</td>\n",
       "      <td>258.733</td>\n",
       "      <td>2</td>\n",
       "      <td>67.435000</td>\n",
       "      <td>2.150000</td>\n",
       "      <td>0.444000</td>\n",
       "      <td>113.497</td>\n",
       "      <td>0.002653</td>\n",
       "    </tr>\n",
       "    <tr>\n",
       "      <th>1</th>\n",
       "      <td>160.937000</td>\n",
       "      <td>68.768</td>\n",
       "      <td>103.235</td>\n",
       "      <td>48.146</td>\n",
       "      <td>3.473</td>\n",
       "      <td>2.078</td>\n",
       "      <td>125.157</td>\n",
       "      <td>0.879</td>\n",
       "      <td>1.414</td>\n",
       "      <td>42.014</td>\n",
       "      <td>...</td>\n",
       "      <td>0.103</td>\n",
       "      <td>44.704</td>\n",
       "      <td>-1.916</td>\n",
       "      <td>164.546</td>\n",
       "      <td>1</td>\n",
       "      <td>46.226000</td>\n",
       "      <td>0.725000</td>\n",
       "      <td>1.158000</td>\n",
       "      <td>46.226</td>\n",
       "      <td>2.233584</td>\n",
       "    </tr>\n",
       "    <tr>\n",
       "      <th>2</th>\n",
       "      <td>-49.023079</td>\n",
       "      <td>162.172</td>\n",
       "      <td>125.953</td>\n",
       "      <td>35.635</td>\n",
       "      <td>3.148</td>\n",
       "      <td>9.336</td>\n",
       "      <td>197.814</td>\n",
       "      <td>3.776</td>\n",
       "      <td>1.414</td>\n",
       "      <td>32.154</td>\n",
       "      <td>...</td>\n",
       "      <td>1.052</td>\n",
       "      <td>54.283</td>\n",
       "      <td>-2.186</td>\n",
       "      <td>260.414</td>\n",
       "      <td>1</td>\n",
       "      <td>44.251000</td>\n",
       "      <td>2.053000</td>\n",
       "      <td>-2.028000</td>\n",
       "      <td>44.251</td>\n",
       "      <td>2.347389</td>\n",
       "    </tr>\n",
       "    <tr>\n",
       "      <th>3</th>\n",
       "      <td>143.905000</td>\n",
       "      <td>81.417</td>\n",
       "      <td>80.943</td>\n",
       "      <td>0.414</td>\n",
       "      <td>3.310</td>\n",
       "      <td>0.414</td>\n",
       "      <td>75.968</td>\n",
       "      <td>2.354</td>\n",
       "      <td>-1.285</td>\n",
       "      <td>22.647</td>\n",
       "      <td>...</td>\n",
       "      <td>-3.100</td>\n",
       "      <td>31.082</td>\n",
       "      <td>0.060</td>\n",
       "      <td>86.062</td>\n",
       "      <td>0</td>\n",
       "      <td>-348.329567</td>\n",
       "      <td>-399.254314</td>\n",
       "      <td>-399.259788</td>\n",
       "      <td>-0.000</td>\n",
       "      <td>5.446378</td>\n",
       "    </tr>\n",
       "    <tr>\n",
       "      <th>4</th>\n",
       "      <td>175.864000</td>\n",
       "      <td>16.915</td>\n",
       "      <td>134.805</td>\n",
       "      <td>16.405</td>\n",
       "      <td>3.891</td>\n",
       "      <td>16.405</td>\n",
       "      <td>57.983</td>\n",
       "      <td>1.056</td>\n",
       "      <td>-1.385</td>\n",
       "      <td>28.209</td>\n",
       "      <td>...</td>\n",
       "      <td>1.569</td>\n",
       "      <td>2.723</td>\n",
       "      <td>-0.871</td>\n",
       "      <td>53.131</td>\n",
       "      <td>0</td>\n",
       "      <td>-348.329567</td>\n",
       "      <td>-399.254314</td>\n",
       "      <td>-399.259788</td>\n",
       "      <td>0.000</td>\n",
       "      <td>6.245333</td>\n",
       "    </tr>\n",
       "  </tbody>\n",
       "</table>\n",
       "<p>5 rows × 24 columns</p>\n",
       "</div>"
      ],
      "text/plain": [
       "   DER_mass_MMC  DER_mass_transverse_met_lep  DER_mass_vis  DER_pt_h  \\\n",
       "0    138.470000                       51.655        97.827    27.980   \n",
       "1    160.937000                       68.768       103.235    48.146   \n",
       "2    -49.023079                      162.172       125.953    35.635   \n",
       "3    143.905000                       81.417        80.943     0.414   \n",
       "4    175.864000                       16.915       134.805    16.405   \n",
       "\n",
       "   DER_deltar_tau_lep  DER_pt_tot  DER_sum_pt  DER_pt_ratio_lep_tau  \\\n",
       "0               3.064      41.928     197.760                 1.582   \n",
       "1               3.473       2.078     125.157                 0.879   \n",
       "2               3.148       9.336     197.814                 3.776   \n",
       "3               3.310       0.414      75.968                 2.354   \n",
       "4               3.891      16.405      57.983                 1.056   \n",
       "\n",
       "   DER_met_phi_centrality  PRI_tau_pt    ...     PRI_lep_phi  PRI_met  \\\n",
       "0                   1.396      32.638    ...          -2.414   16.824   \n",
       "1                   1.414      42.014    ...           0.103   44.704   \n",
       "2                   1.414      32.154    ...           1.052   54.283   \n",
       "3                  -1.285      22.647    ...          -3.100   31.082   \n",
       "4                  -1.385      28.209    ...           1.569    2.723   \n",
       "\n",
       "   PRI_met_phi  PRI_met_sumet  PRI_jet_num  PRI_jet_leading_pt  \\\n",
       "0       -0.277        258.733            2           67.435000   \n",
       "1       -1.916        164.546            1           46.226000   \n",
       "2       -2.186        260.414            1           44.251000   \n",
       "3        0.060         86.062            0         -348.329567   \n",
       "4       -0.871         53.131            0         -348.329567   \n",
       "\n",
       "   PRI_jet_leading_eta  PRI_jet_leading_phi  PRI_jet_all_pt    Weight  \n",
       "0             2.150000             0.444000         113.497  0.002653  \n",
       "1             0.725000             1.158000          46.226  2.233584  \n",
       "2             2.053000            -2.028000          44.251  2.347389  \n",
       "3          -399.254314          -399.259788          -0.000  5.446378  \n",
       "4          -399.254314          -399.259788           0.000  6.245333  \n",
       "\n",
       "[5 rows x 24 columns]"
      ]
     },
     "execution_count": 52,
     "metadata": {},
     "output_type": "execute_result"
    }
   ],
   "source": [
    "# print columns with more than n% nan values (or in this case -999)\n",
    "print len(X.columns)\n",
    "n = 0.7 # mora than 70% invalid values\n",
    "for column in X.columns:\n",
    "    vals = pd.value_counts(X[column].values, sort=True)\n",
    "    nan = vals.iloc[0] * 1.0 / len(X[column])\n",
    "    if nan > n:\n",
    "        X = X.drop(column, axis=1)\n",
    "    else:\n",
    "        X[column] = X[column].replace(-999.0, X[column].mean())\n",
    "# the correlations above were caused by the nan values\n",
    "print len(X.columns)\n",
    "X.head()"
   ]
  },
  {
   "cell_type": "code",
   "execution_count": 67,
   "metadata": {
    "collapsed": false
   },
   "outputs": [],
   "source": [
    "# SelectKBest\n",
    "from sklearn.feature_selection import SelectKBest\n",
    "from sklearn.feature_selection import f_classif # for classification tasks\n",
    "\n",
    "X_new = SelectKBest(f_classif, k=15).fit_transform(X, y)"
   ]
  },
  {
   "cell_type": "code",
   "execution_count": 68,
   "metadata": {
    "collapsed": false
   },
   "outputs": [
    {
     "name": "stdout",
     "output_type": "stream",
     "text": [
      "['DER_mass_MMC', 'DER_mass_transverse_met_lep', 'DER_pt_h', 'DER_sum_pt', 'DER_pt_ratio_lep_tau', 'DER_met_phi_centrality', 'PRI_tau_pt', 'PRI_lep_pt', 'PRI_met_sumet', 'PRI_jet_num', 'PRI_jet_leading_pt', 'PRI_jet_leading_eta', 'PRI_jet_leading_phi', 'PRI_jet_all_pt', 'Weight']\n"
     ]
    }
   ],
   "source": [
    "# get names of the k most important features by looking at the first value of the X_new columns\n",
    "feature_names = [name for name in X.columns if X[name].values[0] in X_new[0]]\n",
    "print feature_names"
   ]
  },
  {
   "cell_type": "code",
   "execution_count": 55,
   "metadata": {
    "collapsed": false
   },
   "outputs": [
    {
     "name": "stdout",
     "output_type": "stream",
     "text": [
      "Feature ranking:\n",
      "1. feature 23 (0.626322)\n",
      "2. feature 0 (0.049327)\n",
      "3. feature 8 (0.041695)\n",
      "4. feature 1 (0.029388)\n",
      "5. feature 2 (0.029039)\n",
      "6. feature 4 (0.026012)\n",
      "7. feature 9 (0.018522)\n",
      "8. feature 7 (0.016797)\n",
      "9. feature 18 (0.015175)\n",
      "10. feature 20 (0.014307)\n",
      "11. feature 15 (0.012878)\n",
      "12. feature 3 (0.012368)\n",
      "13. feature 5 (0.011747)\n",
      "14. feature 6 (0.011512)\n",
      "15. feature 21 (0.010953)\n",
      "16. feature 13 (0.010320)\n",
      "17. feature 12 (0.009201)\n",
      "18. feature 17 (0.009188)\n",
      "19. feature 10 (0.008952)\n",
      "20. feature 22 (0.008494)\n",
      "21. feature 19 (0.008477)\n",
      "22. feature 14 (0.006512)\n",
      "23. feature 16 (0.006433)\n",
      "24. feature 11 (0.006380)\n"
     ]
    },
    {
     "data": {
      "image/png": "[encoded data removed]",
      "text/plain": [
       "<matplotlib.figure.Figure at 0x7f4396b12050>"
      ]
     },
     "metadata": {},
     "output_type": "display_data"
    }
   ],
   "source": [
    "# plot feature importances using random trees\n",
    "from sklearn.ensemble import ExtraTreesClassifier\n",
    "from sklearn.feature_selection import SelectFromModel\n",
    "import matplotlib.pyplot as plt\n",
    "\n",
    "# Build a forest and compute the feature importances\n",
    "forest = ExtraTreesClassifier(n_estimators=250,\n",
    "                              random_state=0)\n",
    "\n",
    "forest.fit(X, y)\n",
    "importances = forest.feature_importances_\n",
    "std = np.std([tree.feature_importances_ for tree in forest.estimators_],\n",
    "             axis=0)\n",
    "indices = np.argsort(importances)[::-1]\n",
    "\n",
    "# Print the feature ranking\n",
    "print(\"Feature ranking:\")\n",
    "\n",
    "for f in range(X.shape[1]):\n",
    "    print(\"%d. feature %d (%f)\" % (f + 1, indices[f], importances[indices[f]]))\n",
    "\n",
    "# Plot the feature importances of the forest\n",
    "plt.figure()\n",
    "plt.title(\"Feature importances\")\n",
    "plt.bar(range(X.shape[1]), importances[indices],\n",
    "       color=\"r\", yerr=std[indices], align=\"center\")\n",
    "plt.xticks(range(X.shape[1]), indices)\n",
    "plt.xlim([-1, X.shape[1]])\n",
    "plt.show()"
   ]
  },
  {
   "cell_type": "code",
   "execution_count": 69,
   "metadata": {
    "collapsed": false
   },
   "outputs": [
    {
     "data": {
      "text/plain": [
       "'Weight'"
      ]
     },
     "execution_count": 69,
     "metadata": {},
     "output_type": "execute_result"
    }
   ],
   "source": [
    "X.columns[23]"
   ]
  },
  {
   "cell_type": "code",
   "execution_count": 71,
   "metadata": {
    "collapsed": false
   },
   "outputs": [
    {
     "data": {
      "text/html": [
       "<div>\n",
       "<table border=\"1\" class=\"dataframe\">\n",
       "  <thead>\n",
       "    <tr style=\"text-align: right;\">\n",
       "      <th></th>\n",
       "      <th>DER_mass_MMC</th>\n",
       "      <th>DER_mass_transverse_met_lep</th>\n",
       "      <th>DER_mass_vis</th>\n",
       "      <th>DER_pt_h</th>\n",
       "      <th>DER_deltar_tau_lep</th>\n",
       "      <th>DER_pt_tot</th>\n",
       "      <th>DER_sum_pt</th>\n",
       "      <th>DER_pt_ratio_lep_tau</th>\n",
       "      <th>DER_met_phi_centrality</th>\n",
       "      <th>PRI_tau_pt</th>\n",
       "      <th>...</th>\n",
       "      <th>PRI_met</th>\n",
       "      <th>PRI_met_phi</th>\n",
       "      <th>PRI_met_sumet</th>\n",
       "      <th>PRI_jet_num</th>\n",
       "      <th>PRI_jet_leading_pt</th>\n",
       "      <th>PRI_jet_leading_eta</th>\n",
       "      <th>PRI_jet_leading_phi</th>\n",
       "      <th>PRI_jet_all_pt</th>\n",
       "      <th>Weight</th>\n",
       "      <th>DER_sum_pt-PRI_jet_all_pt</th>\n",
       "    </tr>\n",
       "  </thead>\n",
       "  <tbody>\n",
       "    <tr>\n",
       "      <th>0</th>\n",
       "      <td>138.470000</td>\n",
       "      <td>51.655</td>\n",
       "      <td>97.827</td>\n",
       "      <td>27.980</td>\n",
       "      <td>3.064</td>\n",
       "      <td>41.928</td>\n",
       "      <td>197.760</td>\n",
       "      <td>1.582</td>\n",
       "      <td>1.396</td>\n",
       "      <td>32.638</td>\n",
       "      <td>...</td>\n",
       "      <td>16.824</td>\n",
       "      <td>-0.277</td>\n",
       "      <td>258.733</td>\n",
       "      <td>2</td>\n",
       "      <td>67.435000</td>\n",
       "      <td>2.150000</td>\n",
       "      <td>0.444000</td>\n",
       "      <td>113.497</td>\n",
       "      <td>0.002653</td>\n",
       "      <td>56.126426</td>\n",
       "    </tr>\n",
       "    <tr>\n",
       "      <th>1</th>\n",
       "      <td>160.937000</td>\n",
       "      <td>68.768</td>\n",
       "      <td>103.235</td>\n",
       "      <td>48.146</td>\n",
       "      <td>3.473</td>\n",
       "      <td>2.078</td>\n",
       "      <td>125.157</td>\n",
       "      <td>0.879</td>\n",
       "      <td>1.414</td>\n",
       "      <td>42.014</td>\n",
       "      <td>...</td>\n",
       "      <td>44.704</td>\n",
       "      <td>-1.916</td>\n",
       "      <td>164.546</td>\n",
       "      <td>1</td>\n",
       "      <td>46.226000</td>\n",
       "      <td>0.725000</td>\n",
       "      <td>1.158000</td>\n",
       "      <td>46.226</td>\n",
       "      <td>2.233584</td>\n",
       "      <td>-42.740249</td>\n",
       "    </tr>\n",
       "    <tr>\n",
       "      <th>2</th>\n",
       "      <td>-49.023079</td>\n",
       "      <td>162.172</td>\n",
       "      <td>125.953</td>\n",
       "      <td>35.635</td>\n",
       "      <td>3.148</td>\n",
       "      <td>9.336</td>\n",
       "      <td>197.814</td>\n",
       "      <td>3.776</td>\n",
       "      <td>1.414</td>\n",
       "      <td>32.154</td>\n",
       "      <td>...</td>\n",
       "      <td>54.283</td>\n",
       "      <td>-2.186</td>\n",
       "      <td>260.414</td>\n",
       "      <td>1</td>\n",
       "      <td>44.251000</td>\n",
       "      <td>2.053000</td>\n",
       "      <td>-2.028000</td>\n",
       "      <td>44.251</td>\n",
       "      <td>2.347389</td>\n",
       "      <td>11.561966</td>\n",
       "    </tr>\n",
       "    <tr>\n",
       "      <th>3</th>\n",
       "      <td>143.905000</td>\n",
       "      <td>81.417</td>\n",
       "      <td>80.943</td>\n",
       "      <td>0.414</td>\n",
       "      <td>3.310</td>\n",
       "      <td>0.414</td>\n",
       "      <td>75.968</td>\n",
       "      <td>2.354</td>\n",
       "      <td>-1.285</td>\n",
       "      <td>22.647</td>\n",
       "      <td>...</td>\n",
       "      <td>31.082</td>\n",
       "      <td>0.060</td>\n",
       "      <td>86.062</td>\n",
       "      <td>0</td>\n",
       "      <td>-348.329567</td>\n",
       "      <td>-399.254314</td>\n",
       "      <td>-399.259788</td>\n",
       "      <td>-0.000</td>\n",
       "      <td>5.446378</td>\n",
       "      <td>-110.141420</td>\n",
       "    </tr>\n",
       "    <tr>\n",
       "      <th>4</th>\n",
       "      <td>175.864000</td>\n",
       "      <td>16.915</td>\n",
       "      <td>134.805</td>\n",
       "      <td>16.405</td>\n",
       "      <td>3.891</td>\n",
       "      <td>16.405</td>\n",
       "      <td>57.983</td>\n",
       "      <td>1.056</td>\n",
       "      <td>-1.385</td>\n",
       "      <td>28.209</td>\n",
       "      <td>...</td>\n",
       "      <td>2.723</td>\n",
       "      <td>-0.871</td>\n",
       "      <td>53.131</td>\n",
       "      <td>0</td>\n",
       "      <td>-348.329567</td>\n",
       "      <td>-399.254314</td>\n",
       "      <td>-399.259788</td>\n",
       "      <td>0.000</td>\n",
       "      <td>6.245333</td>\n",
       "      <td>-123.897923</td>\n",
       "    </tr>\n",
       "  </tbody>\n",
       "</table>\n",
       "<p>5 rows × 25 columns</p>\n",
       "</div>"
      ],
      "text/plain": [
       "   DER_mass_MMC  DER_mass_transverse_met_lep  DER_mass_vis  DER_pt_h  \\\n",
       "0    138.470000                       51.655        97.827    27.980   \n",
       "1    160.937000                       68.768       103.235    48.146   \n",
       "2    -49.023079                      162.172       125.953    35.635   \n",
       "3    143.905000                       81.417        80.943     0.414   \n",
       "4    175.864000                       16.915       134.805    16.405   \n",
       "\n",
       "   DER_deltar_tau_lep  DER_pt_tot  DER_sum_pt  DER_pt_ratio_lep_tau  \\\n",
       "0               3.064      41.928     197.760                 1.582   \n",
       "1               3.473       2.078     125.157                 0.879   \n",
       "2               3.148       9.336     197.814                 3.776   \n",
       "3               3.310       0.414      75.968                 2.354   \n",
       "4               3.891      16.405      57.983                 1.056   \n",
       "\n",
       "   DER_met_phi_centrality  PRI_tau_pt            ...              PRI_met  \\\n",
       "0                   1.396      32.638            ...               16.824   \n",
       "1                   1.414      42.014            ...               44.704   \n",
       "2                   1.414      32.154            ...               54.283   \n",
       "3                  -1.285      22.647            ...               31.082   \n",
       "4                  -1.385      28.209            ...                2.723   \n",
       "\n",
       "   PRI_met_phi  PRI_met_sumet  PRI_jet_num  PRI_jet_leading_pt  \\\n",
       "0       -0.277        258.733            2           67.435000   \n",
       "1       -1.916        164.546            1           46.226000   \n",
       "2       -2.186        260.414            1           44.251000   \n",
       "3        0.060         86.062            0         -348.329567   \n",
       "4       -0.871         53.131            0         -348.329567   \n",
       "\n",
       "   PRI_jet_leading_eta  PRI_jet_leading_phi  PRI_jet_all_pt    Weight  \\\n",
       "0             2.150000             0.444000         113.497  0.002653   \n",
       "1             0.725000             1.158000          46.226  2.233584   \n",
       "2             2.053000            -2.028000          44.251  2.347389   \n",
       "3          -399.254314          -399.259788          -0.000  5.446378   \n",
       "4          -399.254314          -399.259788           0.000  6.245333   \n",
       "\n",
       "   DER_sum_pt-PRI_jet_all_pt  \n",
       "0                  56.126426  \n",
       "1                 -42.740249  \n",
       "2                  11.561966  \n",
       "3                -110.141420  \n",
       "4                -123.897923  \n",
       "\n",
       "[5 rows x 25 columns]"
      ]
     },
     "execution_count": 71,
     "metadata": {},
     "output_type": "execute_result"
    }
   ],
   "source": [
    "# create a new feature based on the mos correlated two featues\n",
    "from sklearn.decomposition import PCA\n",
    "X_aux = pd.DataFrame()\n",
    "X_aux['DER_sum_pt'] = X['DER_sum_pt']\n",
    "X_aux['PRI_jet_all_pt'] = X['PRI_jet_all_pt']\n",
    "\n",
    "pca = PCA(n_components=1, svd_solver='arpack')\n",
    "pca.fit(X_aux)\n",
    "\n",
    "X_new = pca.transform(X_aux)\n",
    "new_name = str('DER_sum_pt') + '-' + str('PRI_jet_all_pt')\n",
    "X[new_name] = X_new\n",
    "X.head()"
   ]
  },
  {
   "cell_type": "code",
   "execution_count": 94,
   "metadata": {
    "collapsed": false
   },
   "outputs": [
    {
     "name": "stdout",
     "output_type": "stream",
     "text": [
      "['DER_mass_MMC', 'DER_mass_transverse_met_lep', 'DER_pt_h', 'DER_sum_pt', 'DER_pt_ratio_lep_tau', 'DER_met_phi_centrality', 'PRI_tau_pt', 'PRI_jet_leading_pt', 'PRI_jet_leading_eta', 'PRI_jet_leading_phi', 'DER_sum_pt-PRI_jet_all_pt', 'Weight']\n"
     ]
    }
   ],
   "source": [
    "# the new feature managed to be at the top 15 best features (try with this current X)\n",
    "X_new = SelectKBest(f_classif, k=12).fit_transform(X, y)\n",
    "feature_names = [name for name in X.columns if X[name].values[0] in X_new[0]]\n",
    "print feature_names"
   ]
  },
  {
   "cell_type": "code",
   "execution_count": 100,
   "metadata": {
    "collapsed": false
   },
   "outputs": [
    {
     "data": {
      "text/plain": [
       "Index([u'DER_mass_MMC', u'DER_mass_transverse_met_lep', u'DER_pt_h',\n",
       "       u'DER_sum_pt', u'DER_pt_ratio_lep_tau', u'DER_met_phi_centrality',\n",
       "       u'PRI_tau_pt', u'PRI_jet_leading_pt', u'PRI_jet_leading_eta',\n",
       "       u'PRI_jet_leading_phi', u'DER_sum_pt-PRI_jet_all_pt', u'Weight'],\n",
       "      dtype='object')"
      ]
     },
     "execution_count": 100,
     "metadata": {},
     "output_type": "execute_result"
    }
   ],
   "source": [
    "for column in X.columns:\n",
    "    if column not in feature_names:\n",
    "        X = X.drop(column, axis=1)\n",
    "        \n",
    "X.columns"
   ]
  },
  {
   "cell_type": "code",
   "execution_count": 101,
   "metadata": {
    "collapsed": false
   },
   "outputs": [
    {
     "name": "stdout",
     "output_type": "stream",
     "text": [
      "Feature ranking:\n",
      "1. feature 11 (0.764039)\n",
      "2. feature 0 (0.064140)\n",
      "3. feature 5 (0.041113)\n",
      "4. feature 1 (0.029819)\n",
      "5. feature 6 (0.017706)\n",
      "6. feature 8 (0.015046)\n",
      "7. feature 4 (0.014325)\n",
      "8. feature 10 (0.012797)\n",
      "9. feature 9 (0.012158)\n",
      "10. feature 3 (0.010981)\n",
      "11. feature 2 (0.010270)\n",
      "12. feature 7 (0.007606)\n"
     ]
    },
    {
     "data": {
      "image/png": "[encoded data removed]",
      "text/plain": [
       "<matplotlib.figure.Figure at 0x7f43947f8ed0>"
      ]
     },
     "metadata": {},
     "output_type": "display_data"
    }
   ],
   "source": [
    "# plot feature importances using random trees\n",
    "from sklearn.ensemble import ExtraTreesClassifier\n",
    "from sklearn.feature_selection import SelectFromModel\n",
    "import matplotlib.pyplot as plt\n",
    "\n",
    "# Build a forest and compute the feature importances\n",
    "forest = ExtraTreesClassifier(n_estimators=250,\n",
    "                              random_state=0)\n",
    "\n",
    "forest.fit(X, y)\n",
    "importances = forest.feature_importances_\n",
    "std = np.std([tree.feature_importances_ for tree in forest.estimators_],\n",
    "             axis=0)\n",
    "indices = np.argsort(importances)[::-1]\n",
    "\n",
    "# Print the feature ranking\n",
    "print(\"Feature ranking:\")\n",
    "\n",
    "for f in range(X.shape[1]):\n",
    "    print(\"%d. feature %d (%f)\" % (f + 1, indices[f], importances[indices[f]]))\n",
    "\n",
    "# Plot the feature importances of the forest\n",
    "plt.figure()\n",
    "plt.title(\"Feature importances\")\n",
    "plt.bar(range(X.shape[1]), importances[indices],\n",
    "       color=\"r\", yerr=std[indices], align=\"center\")\n",
    "plt.xticks(range(X.shape[1]), indices)\n",
    "plt.xlim([-1, X.shape[1]])\n",
    "plt.show()"
   ]
  },
  {
   "cell_type": "code",
   "execution_count": null,
   "metadata": {
    "collapsed": true
   },
   "outputs": [],
   "source": []
  }
 ],
 "metadata": {
  "anaconda-cloud": {},
  "kernelspec": {
   "display_name": "Python [default]",
   "language": "python",
   "name": "python2"
  },
  "language_info": {
   "codemirror_mode": {
    "name": "ipython",
    "version": 2
   },
   "file_extension": ".py",
   "mimetype": "text/x-python",
   "name": "python",
   "nbconvert_exporter": "python",
   "pygments_lexer": "ipython2",
   "version": "2.7.12"
  }
 },
 "nbformat": 4,
 "nbformat_minor": 1
}
