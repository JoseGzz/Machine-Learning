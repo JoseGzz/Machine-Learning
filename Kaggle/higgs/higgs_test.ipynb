{
 "cells": [
  {
   "cell_type": "code",
   "execution_count": 1,
   "metadata": {
    "collapsed": false
   },
   "outputs": [
    {
     "name": "stdout",
     "output_type": "stream",
     "text": [
      "Loading training data.\n"
     ]
    }
   ],
   "source": [
    "import numpy as np\n",
    "from sklearn.ensemble import GradientBoostingClassifier as GBC\n",
    "import math\n",
    " \n",
    "# Load training data\n",
    "print 'Loading training data.'\n",
    "data_train = np.loadtxt( 'training.csv', delimiter=',', skiprows=1, converters={32: lambda x:int(x=='s'.encode('utf-8')) } )\n",
    "print 'done!'"
   ]
  },
  {
   "cell_type": "code",
   "execution_count": 9,
   "metadata": {
    "collapsed": false
   },
   "outputs": [
    {
     "name": "stdout",
     "output_type": "stream",
     "text": [
      "Assigning data to numpy arrays.\n"
     ]
    },
    {
     "data": {
      "text/plain": [
       "array([[  1.00000000e+05,   1.38470000e+02,   5.16550000e+01, ...,\n",
       "          1.13497000e+02,   2.65331134e-03,   1.00000000e+00],\n",
       "       [  1.00001000e+05,   1.60937000e+02,   6.87680000e+01, ...,\n",
       "          4.62260000e+01,   2.23358449e+00,   0.00000000e+00],\n",
       "       [  1.00002000e+05,  -9.99000000e+02,   1.62172000e+02, ...,\n",
       "          4.42510000e+01,   2.34738894e+00,   0.00000000e+00],\n",
       "       ..., \n",
       "       [  3.49997000e+05,   1.05457000e+02,   6.05260000e+01, ...,\n",
       "          4.19920000e+01,   1.86361167e-02,   1.00000000e+00],\n",
       "       [  3.49998000e+05,   9.49510000e+01,   1.93620000e+01, ...,\n",
       "          0.00000000e+00,   1.68161144e+00,   0.00000000e+00],\n",
       "       [  3.49999000e+05,  -9.99000000e+02,   7.27560000e+01, ...,\n",
       "          0.00000000e+00,   1.87747381e+00,   0.00000000e+00]])"
      ]
     },
     "execution_count": 9,
     "metadata": {},
     "output_type": "execute_result"
    }
   ],
   "source": [
    "# Pick a random seed for reproducible results. Choose wisely!\n",
    "np.random.seed(42)\n",
    "# Random number for training/validation splitting\n",
    "r=np.random.rand(data_train.shape[0])\n",
    "# Put Y(truth), X(data), W(weight), and I(index) into their own arrays\n",
    "print 'Assigning data to numpy arrays.'\n",
    "# First 90% are training\n",
    "Y_train = data_train[:,32][r<0.9]\n",
    "X_train = data_train[:,1:31][r<0.9]\n",
    "W_train = data_train[:,31][r<0.9]\n",
    "# Lirst 10% are validation\n",
    "Y_valid = data_train[:,32][r>=0.9]\n",
    "X_valid = data_train[:,1:31][r>=0.9]\n",
    "W_valid = data_train[:,31][r>=0.9]\n",
    "data_train"
   ]
  },
  {
   "cell_type": "code",
   "execution_count": 10,
   "metadata": {
    "collapsed": false
   },
   "outputs": [
    {
     "name": "stdout",
     "output_type": "stream",
     "text": [
      "Training classifier (this may take some time!)\n",
      "      Iter       Train Loss   Remaining Time \n",
      "         1           1.2142            1.17m\n",
      "         2           1.1552            1.32m\n",
      "         3           1.1151            1.37m\n",
      "         4           1.0720            1.47m\n",
      "         5           1.0365            1.42m\n",
      "         6           1.0058            1.31m\n",
      "         7           0.9798            1.23m\n",
      "         8           0.9553            1.15m\n",
      "         9           0.9340            1.09m\n",
      "        10           0.9163            1.03m\n",
      "        20           0.8171           40.76s\n",
      "        30           0.7773           25.54s\n",
      "        40           0.7560           12.28s\n",
      "        50           0.7423            0.00s\n"
     ]
    },
    {
     "data": {
      "text/plain": [
       "GradientBoostingClassifier(criterion='friedman_mse', init=None,\n",
       "              learning_rate=0.1, loss='deviance', max_depth=5,\n",
       "              max_features=10, max_leaf_nodes=None,\n",
       "              min_impurity_split=1e-07, min_samples_leaf=200,\n",
       "              min_samples_split=2, min_weight_fraction_leaf=0.0,\n",
       "              n_estimators=50, presort='auto', random_state=None,\n",
       "              subsample=1.0, verbose=1, warm_start=False)"
      ]
     },
     "execution_count": 10,
     "metadata": {},
     "output_type": "execute_result"
    }
   ],
   "source": [
    "# Train the GradientBoostingClassifier using our good features\n",
    "print 'Training classifier (this may take some time!)'\n",
    "gbc = GBC(n_estimators=50, max_depth=5,min_samples_leaf=200,max_features=10,verbose=1)\n",
    "gbc.fit(X_train,Y_train)  "
   ]
  },
  {
   "cell_type": "code",
   "execution_count": null,
   "metadata": {
    "collapsed": true
   },
   "outputs": [],
   "source": []
  }
 ],
 "metadata": {
  "anaconda-cloud": {},
  "kernelspec": {
   "display_name": "Python [default]",
   "language": "python",
   "name": "python2"
  },
  "language_info": {
   "codemirror_mode": {
    "name": "ipython",
    "version": 2
   },
   "file_extension": ".py",
   "mimetype": "text/x-python",
   "name": "python",
   "nbconvert_exporter": "python",
   "pygments_lexer": "ipython2",
   "version": "2.7.12"
  }
 },
 "nbformat": 4,
 "nbformat_minor": 1
}
