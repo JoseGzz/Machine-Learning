{
 "cells": [
  {
   "cell_type": "code",
   "execution_count": 1,
   "metadata": {
    "collapsed": false
   },
   "outputs": [
    {
     "name": "stdout",
     "output_type": "stream",
     "text": [
      "Loading trainig data\n"
     ]
    }
   ],
   "source": [
    "# load training data\n",
    "import pandas as pd\n",
    "print 'Loading trainig data'\n",
    "train_data = pd.read_csv('l_train.csv')"
   ]
  },
  {
   "cell_type": "code",
   "execution_count": 4,
   "metadata": {
    "collapsed": false
   },
   "outputs": [
    {
     "name": "stderr",
     "output_type": "stream",
     "text": [
      "/home/jose/anaconda2/lib/python2.7/site-packages/ipykernel/__main__.py:7: SettingWithCopyWarning: \n",
      "A value is trying to be set on a copy of a slice from a DataFrame.\n",
      "Try using .loc[row_indexer,col_indexer] = value instead\n",
      "\n",
      "See the caveats in the documentation: http://pandas.pydata.org/pandas-docs/stable/indexing.html#indexing-view-versus-copy\n",
      "/home/jose/anaconda2/lib/python2.7/site-packages/ipykernel/__main__.py:8: SettingWithCopyWarning: \n",
      "A value is trying to be set on a copy of a slice from a DataFrame.\n",
      "Try using .loc[row_indexer,col_indexer] = value instead\n",
      "\n",
      "See the caveats in the documentation: http://pandas.pydata.org/pandas-docs/stable/indexing.html#indexing-view-versus-copy\n"
     ]
    }
   ],
   "source": [
    "from sklearn.model_selection import train_test_split\n",
    "# asign sets and make splits\n",
    "y       = pd.DataFrame(train_data['Label'])\n",
    "X       = train_data.iloc[:,:32]\n",
    "X_train, X_test, y_train, y_test = train_test_split(X, y, test_size=0.33, random_state=42)\n",
    "# change strings to integers\n",
    "y_train['Label'] = y_train['Label'].map({'b':0, 's':1})\n",
    "y_test['Label'] = y_test['Label'].map({'b':0, 's':1})\n",
    "# put weights on separate variables\n",
    "w_train = pd.DataFrame(X_train['Weight'])\n",
    "w_test  = pd.DataFrame(X_test['Weight'])\n",
    "# conserve id's in case we use them in the future\n",
    "id_train = pd.DataFrame(X_train['EventId'])\n",
    "id_test  = pd.DataFrame(X_test['EventId'])\n",
    "# leave only the feature vector on the X's\n",
    "X_train = X_train.iloc[:,1:31]\n",
    "X_test  = X_test.iloc[:,1:31]"
   ]
  },
  {
   "cell_type": "code",
   "execution_count": 24,
   "metadata": {
    "collapsed": false
   },
   "outputs": [
    {
     "data": {
      "text/html": [
       "<div>\n",
       "<table border=\"1\" class=\"dataframe\">\n",
       "  <thead>\n",
       "    <tr style=\"text-align: right;\">\n",
       "      <th></th>\n",
       "      <th>DER_mass_MMC</th>\n",
       "      <th>DER_mass_transverse_met_lep</th>\n",
       "      <th>DER_mass_vis</th>\n",
       "      <th>DER_pt_h</th>\n",
       "      <th>DER_deltaeta_jet_jet</th>\n",
       "      <th>DER_mass_jet_jet</th>\n",
       "      <th>DER_prodeta_jet_jet</th>\n",
       "      <th>DER_deltar_tau_lep</th>\n",
       "      <th>DER_pt_tot</th>\n",
       "      <th>DER_sum_pt</th>\n",
       "      <th>...</th>\n",
       "      <th>PRI_met_phi</th>\n",
       "      <th>PRI_met_sumet</th>\n",
       "      <th>PRI_jet_num</th>\n",
       "      <th>PRI_jet_leading_pt</th>\n",
       "      <th>PRI_jet_leading_eta</th>\n",
       "      <th>PRI_jet_leading_phi</th>\n",
       "      <th>PRI_jet_subleading_pt</th>\n",
       "      <th>PRI_jet_subleading_eta</th>\n",
       "      <th>PRI_jet_subleading_phi</th>\n",
       "      <th>PRI_jet_all_pt</th>\n",
       "    </tr>\n",
       "  </thead>\n",
       "  <tbody>\n",
       "    <tr>\n",
       "      <th>38683</th>\n",
       "      <td>136.372</td>\n",
       "      <td>32.142</td>\n",
       "      <td>95.158</td>\n",
       "      <td>24.012</td>\n",
       "      <td>-999.000</td>\n",
       "      <td>-999.000</td>\n",
       "      <td>-999.000</td>\n",
       "      <td>2.650</td>\n",
       "      <td>24.012</td>\n",
       "      <td>81.013</td>\n",
       "      <td>...</td>\n",
       "      <td>1.655</td>\n",
       "      <td>171.588</td>\n",
       "      <td>0</td>\n",
       "      <td>-999.000</td>\n",
       "      <td>-999.000</td>\n",
       "      <td>-999.000</td>\n",
       "      <td>-999.000</td>\n",
       "      <td>-999.000</td>\n",
       "      <td>-999.000</td>\n",
       "      <td>0.000</td>\n",
       "    </tr>\n",
       "    <tr>\n",
       "      <th>64939</th>\n",
       "      <td>123.147</td>\n",
       "      <td>73.967</td>\n",
       "      <td>73.065</td>\n",
       "      <td>1.951</td>\n",
       "      <td>-999.000</td>\n",
       "      <td>-999.000</td>\n",
       "      <td>-999.000</td>\n",
       "      <td>3.181</td>\n",
       "      <td>1.951</td>\n",
       "      <td>73.968</td>\n",
       "      <td>...</td>\n",
       "      <td>-2.199</td>\n",
       "      <td>41.860</td>\n",
       "      <td>0</td>\n",
       "      <td>-999.000</td>\n",
       "      <td>-999.000</td>\n",
       "      <td>-999.000</td>\n",
       "      <td>-999.000</td>\n",
       "      <td>-999.000</td>\n",
       "      <td>-999.000</td>\n",
       "      <td>-0.000</td>\n",
       "    </tr>\n",
       "    <tr>\n",
       "      <th>3954</th>\n",
       "      <td>114.196</td>\n",
       "      <td>77.282</td>\n",
       "      <td>84.580</td>\n",
       "      <td>1.398</td>\n",
       "      <td>-999.000</td>\n",
       "      <td>-999.000</td>\n",
       "      <td>-999.000</td>\n",
       "      <td>2.808</td>\n",
       "      <td>1.398</td>\n",
       "      <td>86.994</td>\n",
       "      <td>...</td>\n",
       "      <td>-0.552</td>\n",
       "      <td>71.651</td>\n",
       "      <td>0</td>\n",
       "      <td>-999.000</td>\n",
       "      <td>-999.000</td>\n",
       "      <td>-999.000</td>\n",
       "      <td>-999.000</td>\n",
       "      <td>-999.000</td>\n",
       "      <td>-999.000</td>\n",
       "      <td>-0.000</td>\n",
       "    </tr>\n",
       "    <tr>\n",
       "      <th>120374</th>\n",
       "      <td>113.938</td>\n",
       "      <td>37.713</td>\n",
       "      <td>78.068</td>\n",
       "      <td>73.541</td>\n",
       "      <td>1.506</td>\n",
       "      <td>83.664</td>\n",
       "      <td>0.344</td>\n",
       "      <td>2.062</td>\n",
       "      <td>2.179</td>\n",
       "      <td>176.908</td>\n",
       "      <td>...</td>\n",
       "      <td>-0.516</td>\n",
       "      <td>224.587</td>\n",
       "      <td>2</td>\n",
       "      <td>45.739</td>\n",
       "      <td>-1.707</td>\n",
       "      <td>2.192</td>\n",
       "      <td>38.358</td>\n",
       "      <td>-0.202</td>\n",
       "      <td>-3.017</td>\n",
       "      <td>84.097</td>\n",
       "    </tr>\n",
       "    <tr>\n",
       "      <th>172861</th>\n",
       "      <td>-999.000</td>\n",
       "      <td>82.024</td>\n",
       "      <td>55.707</td>\n",
       "      <td>15.350</td>\n",
       "      <td>-999.000</td>\n",
       "      <td>-999.000</td>\n",
       "      <td>-999.000</td>\n",
       "      <td>1.943</td>\n",
       "      <td>15.350</td>\n",
       "      <td>62.787</td>\n",
       "      <td>...</td>\n",
       "      <td>-0.157</td>\n",
       "      <td>98.964</td>\n",
       "      <td>0</td>\n",
       "      <td>-999.000</td>\n",
       "      <td>-999.000</td>\n",
       "      <td>-999.000</td>\n",
       "      <td>-999.000</td>\n",
       "      <td>-999.000</td>\n",
       "      <td>-999.000</td>\n",
       "      <td>-0.000</td>\n",
       "    </tr>\n",
       "  </tbody>\n",
       "</table>\n",
       "<p>5 rows × 30 columns</p>\n",
       "</div>"
      ],
      "text/plain": [
       "        DER_mass_MMC  DER_mass_transverse_met_lep  DER_mass_vis  DER_pt_h  \\\n",
       "38683        136.372                       32.142        95.158    24.012   \n",
       "64939        123.147                       73.967        73.065     1.951   \n",
       "3954         114.196                       77.282        84.580     1.398   \n",
       "120374       113.938                       37.713        78.068    73.541   \n",
       "172861      -999.000                       82.024        55.707    15.350   \n",
       "\n",
       "        DER_deltaeta_jet_jet  DER_mass_jet_jet  DER_prodeta_jet_jet  \\\n",
       "38683               -999.000          -999.000             -999.000   \n",
       "64939               -999.000          -999.000             -999.000   \n",
       "3954                -999.000          -999.000             -999.000   \n",
       "120374                 1.506            83.664                0.344   \n",
       "172861              -999.000          -999.000             -999.000   \n",
       "\n",
       "        DER_deltar_tau_lep  DER_pt_tot  DER_sum_pt       ...        \\\n",
       "38683                2.650      24.012      81.013       ...         \n",
       "64939                3.181       1.951      73.968       ...         \n",
       "3954                 2.808       1.398      86.994       ...         \n",
       "120374               2.062       2.179     176.908       ...         \n",
       "172861               1.943      15.350      62.787       ...         \n",
       "\n",
       "        PRI_met_phi  PRI_met_sumet  PRI_jet_num  PRI_jet_leading_pt  \\\n",
       "38683         1.655        171.588            0            -999.000   \n",
       "64939        -2.199         41.860            0            -999.000   \n",
       "3954         -0.552         71.651            0            -999.000   \n",
       "120374       -0.516        224.587            2              45.739   \n",
       "172861       -0.157         98.964            0            -999.000   \n",
       "\n",
       "        PRI_jet_leading_eta  PRI_jet_leading_phi  PRI_jet_subleading_pt  \\\n",
       "38683              -999.000             -999.000               -999.000   \n",
       "64939              -999.000             -999.000               -999.000   \n",
       "3954               -999.000             -999.000               -999.000   \n",
       "120374               -1.707                2.192                 38.358   \n",
       "172861             -999.000             -999.000               -999.000   \n",
       "\n",
       "        PRI_jet_subleading_eta  PRI_jet_subleading_phi  PRI_jet_all_pt  \n",
       "38683                 -999.000                -999.000           0.000  \n",
       "64939                 -999.000                -999.000          -0.000  \n",
       "3954                  -999.000                -999.000          -0.000  \n",
       "120374                  -0.202                  -3.017          84.097  \n",
       "172861                -999.000                -999.000          -0.000  \n",
       "\n",
       "[5 rows x 30 columns]"
      ]
     },
     "execution_count": 24,
     "metadata": {},
     "output_type": "execute_result"
    }
   ],
   "source": [
    "X_test.head(5)"
   ]
  },
  {
   "cell_type": "code",
   "execution_count": 16,
   "metadata": {
    "collapsed": false
   },
   "outputs": [
    {
     "name": "stdout",
     "output_type": "stream",
     "text": [
      "feature: DER_mass_MMC, types: [<type 'numpy.float64'>]\n",
      "feature: DER_mass_transverse_met_lep, types: [<type 'numpy.float64'>]\n",
      "feature: DER_mass_vis, types: [<type 'numpy.float64'>]\n",
      "feature: DER_pt_h, types: [<type 'numpy.float64'>]\n",
      "feature: DER_deltaeta_jet_jet, types: [<type 'numpy.float64'>]\n",
      "feature: DER_mass_jet_jet, types: [<type 'numpy.float64'>]\n",
      "feature: DER_prodeta_jet_jet, types: [<type 'numpy.float64'>]\n",
      "feature: DER_deltar_tau_lep, types: [<type 'numpy.float64'>]\n",
      "feature: DER_pt_tot, types: [<type 'numpy.float64'>]\n",
      "feature: DER_sum_pt, types: [<type 'numpy.float64'>]\n",
      "feature: DER_pt_ratio_lep_tau, types: [<type 'numpy.float64'>]\n",
      "feature: DER_met_phi_centrality, types: [<type 'numpy.float64'>]\n",
      "feature: DER_lep_eta_centrality, types: [<type 'numpy.float64'>]\n",
      "feature: PRI_tau_pt, types: [<type 'numpy.float64'>]\n",
      "feature: PRI_tau_eta, types: [<type 'numpy.float64'>]\n",
      "feature: PRI_tau_phi, types: [<type 'numpy.float64'>]\n",
      "feature: PRI_lep_pt, types: [<type 'numpy.float64'>]\n",
      "feature: PRI_lep_eta, types: [<type 'numpy.float64'>]\n",
      "feature: PRI_lep_phi, types: [<type 'numpy.float64'>]\n",
      "feature: PRI_met, types: [<type 'numpy.float64'>]\n",
      "feature: PRI_met_phi, types: [<type 'numpy.float64'>]\n",
      "feature: PRI_met_sumet, types: [<type 'numpy.float64'>]\n",
      "feature: PRI_jet_num, types: [<type 'numpy.int64'>]\n",
      "feature: PRI_jet_leading_pt, types: [<type 'numpy.float64'>]\n",
      "feature: PRI_jet_leading_eta, types: [<type 'numpy.float64'>]\n",
      "feature: PRI_jet_leading_phi, types: [<type 'numpy.float64'>]\n",
      "feature: PRI_jet_subleading_pt, types: [<type 'numpy.float64'>]\n",
      "feature: PRI_jet_subleading_eta, types: [<type 'numpy.float64'>]\n",
      "feature: PRI_jet_subleading_phi, types: [<type 'numpy.float64'>]\n",
      "feature: PRI_jet_all_pt, types: [<type 'numpy.float64'>]\n"
     ]
    }
   ],
   "source": [
    "# explore data types of each feature\n",
    "import numpy as np\n",
    "columns =  X_train.columns\n",
    "for column in columns:\n",
    "    vals = [type(val) for val in X_train[column].unique()]\n",
    "    print 'feature: {}, types: {}'.format(column, np.unique(vals))"
   ]
  },
  {
   "cell_type": "code",
   "execution_count": 23,
   "metadata": {
    "collapsed": false
   },
   "outputs": [
    {
     "name": "stdout",
     "output_type": "stream",
     "text": [
      "columns with undefined values:\n",
      "DER_mass_MMC\n",
      "DER_deltaeta_jet_jet\n",
      "DER_mass_jet_jet\n",
      "DER_prodeta_jet_jet\n",
      "DER_lep_eta_centrality\n",
      "PRI_jet_leading_pt\n",
      "PRI_jet_leading_eta\n",
      "PRI_jet_leading_phi\n",
      "PRI_jet_subleading_pt\n",
      "PRI_jet_subleading_eta\n",
      "PRI_jet_subleading_phi\n"
     ]
    }
   ],
   "source": [
    "# check max and min values of each feature to see which columns have undefined values\n",
    "print 'columns with undefined values:'\n",
    "for column in columns:\n",
    "    lst = [x for x in X_train[column].unique()]\n",
    "    lst.sort()\n",
    "    if lst[0] == -999.0:\n",
    "        print column\n",
    "    #print 'col: {} with max: {} and min: {}'.format(column, lst[-1], lst[0])"
   ]
  },
  {
   "cell_type": "code",
   "execution_count": 50,
   "metadata": {
    "collapsed": false
   },
   "outputs": [
    {
     "name": "stderr",
     "output_type": "stream",
     "text": [
      "/home/jose/anaconda2/lib/python2.7/site-packages/matplotlib/axes/_base.py:2782: UserWarning: Attempting to set identical left==right results\n",
      "in singular transformations; automatically expanding.\n",
      "left=-999.0, right=-999.0\n",
      "  'left=%s, right=%s') % (left, right))\n",
      "/home/jose/anaconda2/lib/python2.7/site-packages/matplotlib/axes/_base.py:2782: UserWarning: Attempting to set identical left==right results\n",
      "in singular transformations; automatically expanding.\n",
      "left=0.0, right=0.0\n",
      "  'left=%s, right=%s') % (left, right))\n",
      "/home/jose/anaconda2/lib/python2.7/site-packages/matplotlib/axes/_base.py:3040: UserWarning: Attempting to set identical bottom==top results\n",
      "in singular transformations; automatically expanding.\n",
      "bottom=-999.0, top=-999.0\n",
      "  'bottom=%s, top=%s') % (bottom, top))\n",
      "/home/jose/anaconda2/lib/python2.7/site-packages/matplotlib/axes/_base.py:3040: UserWarning: Attempting to set identical bottom==top results\n",
      "in singular transformations; automatically expanding.\n",
      "bottom=0.0, top=0.0\n",
      "  'bottom=%s, top=%s') % (bottom, top))\n"
     ]
    },
    {
     "data": {
      "image/png": "[encoded data removed]",
      "text/plain": [
       "<matplotlib.figure.Figure at 0x7f8bad0b0510>"
      ]
     },
     "metadata": {},
     "output_type": "display_data"
    }
   ],
   "source": [
    "'''\n",
    "import matplotlib.pyplot as plt\n",
    "\n",
    "plt.scatter(X_train['DER_mass_MMC'],y_train['Label'], l=['event','back'], c=['r','b'])\n",
    "#plt.scatter(X_train['DER_mass_MMC'], X_train['DER_deltaeta_jet_jet'])\n",
    "plt.legend()\n",
    "plt.show()\n",
    "#pd.scatter_matrix(X_train)\n",
    "'''\n",
    "import numpy as np\n",
    "import matplotlib.pyplot as plt\n",
    "\n",
    "names = set(y_train['Label'])\n",
    "\n",
    "x, y = X_train['PRI_tau_pt'],  X_train['PRI_jet_subleading_eta']\n",
    "'''\n",
    "for name in names:\n",
    "    cond = y_train['Label'] == name\n",
    "    plt.plot(x[cond], y[cond], linestyle='none', marker='o', label=name)\n",
    "'''\n",
    "#plt.legend(numpoints=1)\n",
    "pd.scatter_matrix(X_train[:2])\n",
    "plt.show()"
   ]
  },
  {
   "cell_type": "code",
   "execution_count": 54,
   "metadata": {
    "collapsed": false,
    "scrolled": true
   },
   "outputs": [
    {
     "name": "stdout",
     "output_type": "stream",
     "text": [
      "      Iter       Train Loss   Remaining Time \n",
      "         1           1.2188            1.21m\n",
      "         2           1.1609            1.23m\n",
      "         3           1.1203            1.20m\n",
      "         4           1.0791            1.06m\n",
      "         5           1.0425           57.93s\n",
      "         6           1.0132           54.17s\n",
      "         7           0.9844           51.47s\n",
      "         8           0.9614           48.50s\n",
      "         9           0.9445           46.32s\n",
      "        10           0.9246           44.31s\n",
      "        20           0.8192           28.45s\n",
      "        30           0.7762           17.87s\n",
      "        40           0.7537            8.64s\n",
      "        50           0.7399            0.00s\n"
     ]
    },
    {
     "data": {
      "text/plain": [
       "GradientBoostingClassifier(criterion='friedman_mse', init=None,\n",
       "              learning_rate=0.1, loss='deviance', max_depth=5,\n",
       "              max_features=10, max_leaf_nodes=None,\n",
       "              min_impurity_split=1e-07, min_samples_leaf=200,\n",
       "              min_samples_split=2, min_weight_fraction_leaf=0.0,\n",
       "              n_estimators=50, presort='auto', random_state=None,\n",
       "              subsample=1.0, verbose=1, warm_start=False)"
      ]
     },
     "execution_count": 54,
     "metadata": {},
     "output_type": "execute_result"
    }
   ],
   "source": [
    "# train the model\n",
    "from sklearn.ensemble import GradientBoostingClassifier as GBC\n",
    "clf = GBC(n_estimators=50, max_depth=5, min_samples_leaf=200, max_features=10, verbose=1)\n",
    "clf.fit(X_train,y_train)"
   ]
  },
  {
   "cell_type": "code",
   "execution_count": 57,
   "metadata": {
    "collapsed": false
   },
   "outputs": [
    {
     "data": {
      "text/plain": [
       "array([ 0.76656025,  0.08582114,  0.71906192, ...,  0.06783308,\n",
       "        0.07816643,  0.15369901])"
      ]
     },
     "execution_count": 57,
     "metadata": {},
     "output_type": "execute_result"
    }
   ],
   "source": [
    "# predictions from training set\n",
    "y_train_pred = clf.predict(X_train)\n",
    "# probabilities from train/test\n",
    "prob_train_pred = clf.predict_proba(X_train)\n",
    "prob_test_pred  = clf.predict_proba(X_test)\n",
    "# get second column (first column has inverse probabilities)\n",
    "prob_train_pred = prob_train_pred[:,1]\n",
    "prob_test_pred  = prob_test_pred[:,1]"
   ]
  },
  {
   "cell_type": "code",
   "execution_count": 97,
   "metadata": {
    "collapsed": false
   },
   "outputs": [
    {
     "name": "stdout",
     "output_type": "stream",
     "text": [
      "[False False False ..., False False False]\n",
      "[False False False ..., False False False]\n"
     ]
    }
   ],
   "source": [
    "import numpy as np\n",
    "# the 85th percentile is the value below which 85% of the observations may be found (wikipedia)\n",
    "threshold = np.percentile(prob_train_pred, 85)\n",
    "# the threshold displayed 0.78445009849346203\n",
    "y_train_pred = prob_train_pred > threshold \n",
    "y_test_pred  = prob_test_pred  > threshold\n",
    "print y_train_pred\n",
    "print y_test_pred"
   ]
  },
  {
   "cell_type": "code",
   "execution_count": 189,
   "metadata": {
    "collapsed": false
   },
   "outputs": [
    {
     "data": {
      "text/plain": [
       "array([ 0.0278151 ,  0.        ,  0.00224284, ...,  0.        ,\n",
       "        0.        ,  0.        ])"
      ]
     },
     "execution_count": 189,
     "metadata": {},
     "output_type": "execute_result"
    }
   ],
   "source": [
    "# compute true positive/negatives and scale the weights according to the train/test split\n",
    "TP_train = w_train.values * (y_train == 1.0)*(1.0/0.67)\n",
    "TN_train = w_train.values * (y_train == 0.0)*(1.0/0.67)\n",
    "TP_test  = w_test.values  * (y_test  == 1.0)*(1.0/0.33)\n",
    "TN_test  = w_test.values  * (y_test  == 0.0)*(1.0/0.33)\n",
    "TP_train.values.flatten()"
   ]
  },
  {
   "cell_type": "code",
   "execution_count": 190,
   "metadata": {
    "collapsed": false
   },
   "outputs": [
    {
     "data": {
      "text/plain": [
       "array([False, False, False, ..., False, False, False], dtype=bool)"
      ]
     },
     "execution_count": 190,
     "metadata": {},
     "output_type": "execute_result"
    }
   ],
   "source": [
    "y_train_pred"
   ]
  },
  {
   "cell_type": "code",
   "execution_count": 191,
   "metadata": {
    "collapsed": false
   },
   "outputs": [],
   "source": [
    "# compute s's and b's to be used in the AMS calculation accordin to the documentation\n",
    "# ussage of the indicator funcion\n",
    "s_train = sum(TP_train.values.flatten() * (y_train_pred == 1.0))\n",
    "b_train = sum(TN_train.values.flatten() * (y_train_pred == 1.0))\n",
    "s_test = sum(TP_test.values.flatten()   * (y_test_pred  == 1.0))\n",
    "b_test = sum(TN_test.values.flatten()   * (y_test_pred  == 1.0))"
   ]
  },
  {
   "cell_type": "code",
   "execution_count": 192,
   "metadata": {
    "collapsed": false
   },
   "outputs": [
    {
     "name": "stdout",
     "output_type": "stream",
     "text": [
      "AMS score with training sample: 3.49929238197\n",
      "AMS score with testing sample: 3.42973369564:\n"
     ]
    }
   ],
   "source": [
    "# calculate the AMS score\n",
    "import math\n",
    "def AMS_score(s,b): return  math.sqrt (2.*( (s + b + 10.)*math.log(1.+s/(b+10.))-s))\n",
    "print 'AMS score with training sample: {}'.format(AMS_score(s_train,b_train))\n",
    "print 'AMS score with testing sample: {}:'.format(AMS_score(s_test,b_test))"
   ]
  },
  {
   "cell_type": "code",
   "execution_count": 121,
   "metadata": {
    "collapsed": false
   },
   "outputs": [],
   "source": [
    "# load testing data to perform the submission predictions\n",
    "test_data = pd.read_csv('test.csv')"
   ]
  },
  {
   "cell_type": "code",
   "execution_count": 144,
   "metadata": {
    "collapsed": false
   },
   "outputs": [],
   "source": [
    "# store the feature columns and make the predictions\n",
    "X_t = test_data.iloc[:,1:31]\n",
    "y_prob_t = clf.predict_proba(X_t)\n",
    "y_prob_t = y_prob_t[:,1]"
   ]
  },
  {
   "cell_type": "code",
   "execution_count": 176,
   "metadata": {
    "collapsed": false
   },
   "outputs": [],
   "source": [
    "# get probabilities into a dataframe, stablish values above the threshold and set id's\n",
    "probs = pd.DataFrame(y_prob_t,columns=['prob'])\n",
    "y_t_cleaned = y_prob_t > threshold\n",
    "labels = pd.DataFrame(y_t_cleaned, columns=['label'])\n",
    "submission = pd.DataFrame([test_data['EventId'], probs['prob'], labels['label']]).T"
   ]
  },
  {
   "cell_type": "code",
   "execution_count": 181,
   "metadata": {
    "collapsed": false
   },
   "outputs": [
    {
     "name": "stderr",
     "output_type": "stream",
     "text": [
      "/home/jose/anaconda2/lib/python2.7/site-packages/ipykernel/__main__.py:1: FutureWarning: sort(columns=....) is deprecated, use sort_values(by=.....)\n",
      "  if __name__ == '__main__':\n"
     ]
    },
    {
     "data": {
      "text/html": [
       "<div>\n",
       "<table border=\"1\" class=\"dataframe\">\n",
       "  <thead>\n",
       "    <tr style=\"text-align: right;\">\n",
       "      <th></th>\n",
       "      <th>EventId</th>\n",
       "      <th>prob</th>\n",
       "      <th>label</th>\n",
       "    </tr>\n",
       "  </thead>\n",
       "  <tbody>\n",
       "    <tr>\n",
       "      <th>122596</th>\n",
       "      <td>472596.0</td>\n",
       "      <td>0.016690</td>\n",
       "      <td>0.0</td>\n",
       "    </tr>\n",
       "    <tr>\n",
       "      <th>370548</th>\n",
       "      <td>720548.0</td>\n",
       "      <td>0.017145</td>\n",
       "      <td>0.0</td>\n",
       "    </tr>\n",
       "    <tr>\n",
       "      <th>380878</th>\n",
       "      <td>730878.0</td>\n",
       "      <td>0.017216</td>\n",
       "      <td>0.0</td>\n",
       "    </tr>\n",
       "    <tr>\n",
       "      <th>103392</th>\n",
       "      <td>453392.0</td>\n",
       "      <td>0.017227</td>\n",
       "      <td>0.0</td>\n",
       "    </tr>\n",
       "    <tr>\n",
       "      <th>96821</th>\n",
       "      <td>446821.0</td>\n",
       "      <td>0.017293</td>\n",
       "      <td>0.0</td>\n",
       "    </tr>\n",
       "  </tbody>\n",
       "</table>\n",
       "</div>"
      ],
      "text/plain": [
       "         EventId      prob  label\n",
       "122596  472596.0  0.016690    0.0\n",
       "370548  720548.0  0.017145    0.0\n",
       "380878  730878.0  0.017216    0.0\n",
       "103392  453392.0  0.017227    0.0\n",
       "96821   446821.0  0.017293    0.0"
      ]
     },
     "execution_count": 181,
     "metadata": {},
     "output_type": "execute_result"
    }
   ],
   "source": [
    "# we first sort the data based on the probabilities to later assign the rank numeration incrementally\n",
    "sort_submission = submission.sort(['prob'],ascending=True)\n",
    "sort_submission.head()"
   ]
  },
  {
   "cell_type": "code",
   "execution_count": 182,
   "metadata": {
    "collapsed": false
   },
   "outputs": [
    {
     "data": {
      "text/html": [
       "<div>\n",
       "<table border=\"1\" class=\"dataframe\">\n",
       "  <thead>\n",
       "    <tr style=\"text-align: right;\">\n",
       "      <th></th>\n",
       "      <th>EventId</th>\n",
       "      <th>prob</th>\n",
       "      <th>label</th>\n",
       "    </tr>\n",
       "  </thead>\n",
       "  <tbody>\n",
       "    <tr>\n",
       "      <th>122596</th>\n",
       "      <td>472596</td>\n",
       "      <td>1</td>\n",
       "      <td>b</td>\n",
       "    </tr>\n",
       "    <tr>\n",
       "      <th>370548</th>\n",
       "      <td>720548</td>\n",
       "      <td>2</td>\n",
       "      <td>b</td>\n",
       "    </tr>\n",
       "    <tr>\n",
       "      <th>380878</th>\n",
       "      <td>730878</td>\n",
       "      <td>3</td>\n",
       "      <td>b</td>\n",
       "    </tr>\n",
       "    <tr>\n",
       "      <th>103392</th>\n",
       "      <td>453392</td>\n",
       "      <td>4</td>\n",
       "      <td>b</td>\n",
       "    </tr>\n",
       "    <tr>\n",
       "      <th>96821</th>\n",
       "      <td>446821</td>\n",
       "      <td>5</td>\n",
       "      <td>b</td>\n",
       "    </tr>\n",
       "  </tbody>\n",
       "</table>\n",
       "</div>"
      ],
      "text/plain": [
       "        EventId  prob label\n",
       "122596   472596     1     b\n",
       "370548   720548     2     b\n",
       "380878   730878     3     b\n",
       "103392   453392     4     b\n",
       "96821    446821     5     b"
      ]
     },
     "execution_count": 182,
     "metadata": {},
     "output_type": "execute_result"
    }
   ],
   "source": [
    "# assign rank numeration incrementally\n",
    "ranks = [i+1 for i in range(0, X_t.shape[0])]\n",
    "sort_submission['prob']    = ranks\n",
    "# return to original labels\n",
    "sort_submission['label']   = sort_submission['label'].map({1:'s', 0:'b'})\n",
    "# return id's to original format\n",
    "sort_submission['EventId'] = sort_submission['EventId'].astype(int)\n",
    "sort_submission.head()"
   ]
  },
  {
   "cell_type": "code",
   "execution_count": 183,
   "metadata": {
    "collapsed": false
   },
   "outputs": [
    {
     "name": "stderr",
     "output_type": "stream",
     "text": [
      "/home/jose/anaconda2/lib/python2.7/site-packages/ipykernel/__main__.py:1: FutureWarning: sort(columns=....) is deprecated, use sort_values(by=.....)\n",
      "  if __name__ == '__main__':\n"
     ]
    },
    {
     "data": {
      "text/html": [
       "<div>\n",
       "<table border=\"1\" class=\"dataframe\">\n",
       "  <thead>\n",
       "    <tr style=\"text-align: right;\">\n",
       "      <th></th>\n",
       "      <th>EventId</th>\n",
       "      <th>RankOrder</th>\n",
       "      <th>Class</th>\n",
       "    </tr>\n",
       "  </thead>\n",
       "  <tbody>\n",
       "    <tr>\n",
       "      <th>549995</th>\n",
       "      <td>899995</td>\n",
       "      <td>159564</td>\n",
       "      <td>b</td>\n",
       "    </tr>\n",
       "    <tr>\n",
       "      <th>549996</th>\n",
       "      <td>899996</td>\n",
       "      <td>375404</td>\n",
       "      <td>b</td>\n",
       "    </tr>\n",
       "    <tr>\n",
       "      <th>549997</th>\n",
       "      <td>899997</td>\n",
       "      <td>124026</td>\n",
       "      <td>b</td>\n",
       "    </tr>\n",
       "    <tr>\n",
       "      <th>549998</th>\n",
       "      <td>899998</td>\n",
       "      <td>383427</td>\n",
       "      <td>b</td>\n",
       "    </tr>\n",
       "    <tr>\n",
       "      <th>549999</th>\n",
       "      <td>899999</td>\n",
       "      <td>287662</td>\n",
       "      <td>b</td>\n",
       "    </tr>\n",
       "  </tbody>\n",
       "</table>\n",
       "</div>"
      ],
      "text/plain": [
       "        EventId  RankOrder Class\n",
       "549995   899995     159564     b\n",
       "549996   899996     375404     b\n",
       "549997   899997     124026     b\n",
       "549998   899998     383427     b\n",
       "549999   899999     287662     b"
      ]
     },
     "execution_count": 183,
     "metadata": {},
     "output_type": "execute_result"
    }
   ],
   "source": [
    "# set columns correct naming\n",
    "id_sort = sort_submission.sort(['EventId'], ascending=True)\n",
    "id_sort.columns=['EventId','RankOrder','Class']\n",
    "id_sort.tail()"
   ]
  },
  {
   "cell_type": "code",
   "execution_count": 184,
   "metadata": {
    "collapsed": true
   },
   "outputs": [],
   "source": [
    "# generate submission file\n",
    "'''submission = pd.DataFrame({\n",
    "        \"EventId\": id_sort['EventId'],\n",
    "        \"RankOrder\":id_sort['RankOrder'],\n",
    "        \"Class\": id_sort['Class']\n",
    "    })\n",
    "'''\n",
    "# this submission gets to place 882/1785\n",
    "id_sort.to_csv('higgsSubmission1.csv', index=False)"
   ]
  }
 ],
 "metadata": {
  "anaconda-cloud": {},
  "kernelspec": {
   "display_name": "Python [default]",
   "language": "python",
   "name": "python2"
  },
  "language_info": {
   "codemirror_mode": {
    "name": "ipython",
    "version": 2
   },
   "file_extension": ".py",
   "mimetype": "text/x-python",
   "name": "python",
   "nbconvert_exporter": "python",
   "pygments_lexer": "ipython2",
   "version": "2.7.12"
  }
 },
 "nbformat": 4,
 "nbformat_minor": 1
}
